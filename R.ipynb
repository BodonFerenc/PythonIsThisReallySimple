{
 "cells": [
  {
   "cell_type": "markdown",
   "metadata": {},
   "source": [
    "## Hardware Details\n",
    "[GCP](https://cloud.google.com/) VM: [n1-highmem-16](https://cloud.google.com/compute/docs/machine-types#n1_machine_types) (16 vCPUs, 104 GB memory)"
   ]
  },
  {
   "cell_type": "code",
   "execution_count": 1,
   "metadata": {
    "scrolled": true
   },
   "outputs": [
    {
     "name": "stdout",
     "output_type": "stream",
     "text": [
      "Architecture:          x86_64\n",
      "CPU op-mode(s):        32-bit, 64-bit\n",
      "Byte Order:            Little Endian\n",
      "CPU(s):                16\n",
      "On-line CPU(s) list:   0-15\n",
      "Thread(s) per core:    2\n",
      "Core(s) per socket:    8\n",
      "Socket(s):             1\n",
      "NUMA node(s):          1\n",
      "Vendor ID:             GenuineIntel\n",
      "CPU family:            6\n",
      "Model:                 63\n",
      "Model name:            Intel(R) Xeon(R) CPU @ 2.30GHz\n",
      "Stepping:              0\n",
      "CPU MHz:               2300.000\n",
      "BogoMIPS:              4600.00\n",
      "Hypervisor vendor:     KVM\n",
      "Virtualization type:   full\n",
      "L1d cache:             32K\n",
      "L1i cache:             32K\n",
      "L2 cache:              256K\n",
      "L3 cache:              46080K\n",
      "NUMA node0 CPU(s):     0-15\n",
      "Flags:                 fpu vme de pse tsc msr pae mce cx8 apic sep mtrr pge mca cmov pat pse36 clflush mmx fxsr sse sse2 ss ht syscall nx pdpe1gb rdtscp lm constant_tsc rep_good nopl xtopology nonstop_tsc eagerfpu pni pclmulqdq ssse3 fma cx16 pcid sse4_1 sse4_2 x2apic movbe popcnt aes xsave avx f16c rdrand hypervisor lahf_lm abm invpcid_single ssbd ibrs ibpb stibp fsgsbase tsc_adjust bmi1 avx2 smep bmi2 erms invpcid xsaveopt arat md_clear spec_ctrl intel_stibp arch_capabilities\n"
     ]
    }
   ],
   "source": [
    "cat(system(\"lscpu\", intern=TRUE), sep='\\n')"
   ]
  },
  {
   "cell_type": "code",
   "execution_count": 2,
   "metadata": {
    "scrolled": true
   },
   "outputs": [
    {
     "name": "stdout",
     "output_type": "stream",
     "text": [
      "MemTotal:       107091244 kB\n"
     ]
    }
   ],
   "source": [
    "cat(system(\"cat /proc/meminfo | head -n1\", intern=TRUE), sep='\\n')"
   ]
  },
  {
   "cell_type": "markdown",
   "metadata": {},
   "source": [
    "## Basic functions"
   ]
  },
  {
   "cell_type": "code",
   "execution_count": 3,
   "metadata": {},
   "outputs": [],
   "source": [
    "library(data.table)\n",
    "library(stringi)\n",
    "library(microbenchmark)"
   ]
  },
  {
   "cell_type": "code",
   "execution_count": 4,
   "metadata": {},
   "outputs": [],
   "source": [
    "createTable <- function(rowCount) {\n",
    "    gc()\n",
    "    data.table(\n",
    "    bucket = stri_rand_strings(rowCount, 2, pattern = \"[a-z]\"),\n",
    "    qty = sample(1:100, rowCount, replace = TRUE),\n",
    "    risk = sample(1:10, rowCount, replace = TRUE),\n",
    "    weight = runif(rowCount, 0, 2)\n",
    "    )\n",
    "}"
   ]
  },
  {
   "cell_type": "code",
   "execution_count": 5,
   "metadata": {},
   "outputs": [],
   "source": [
    "executeQuery <- function(t) {\n",
    "    t[, .(\n",
    "    NR = .N,\n",
    "    TOTAL_QTY = sum(qty), AVG_QTY = mean(qty),\n",
    "    TOTAL_RISK = sum(risk), AVG_RISK = mean(risk),\n",
    "    WEIGHTED_QTY = weighted.mean(qty, weight),\n",
    "    WEIGHTED_RISK = weighted.mean(risk, weight)\n",
    "    ), by = bucket]\n",
    "}"
   ]
  },
  {
   "cell_type": "markdown",
   "metadata": {},
   "source": [
    "## 10k"
   ]
  },
  {
   "cell_type": "code",
   "execution_count": 6,
   "metadata": {},
   "outputs": [],
   "source": [
    "t <- createTable(10 * 1000)"
   ]
  },
  {
   "cell_type": "code",
   "execution_count": 7,
   "metadata": {},
   "outputs": [
    {
     "data": {
      "text/html": [
       "<table>\n",
       "<caption>A data.frame: 1 × 8</caption>\n",
       "<thead>\n",
       "\t<tr><th scope=col>expr</th><th scope=col>min</th><th scope=col>lq</th><th scope=col>mean</th><th scope=col>median</th><th scope=col>uq</th><th scope=col>max</th><th scope=col>neval</th></tr>\n",
       "\t<tr><th scope=col>&lt;fct&gt;</th><th scope=col>&lt;dbl&gt;</th><th scope=col>&lt;dbl&gt;</th><th scope=col>&lt;dbl&gt;</th><th scope=col>&lt;dbl&gt;</th><th scope=col>&lt;dbl&gt;</th><th scope=col>&lt;dbl&gt;</th><th scope=col>&lt;dbl&gt;</th></tr>\n",
       "</thead>\n",
       "<tbody>\n",
       "\t<tr><td>executeQuery(t)</td><td>10.70515</td><td>10.95544</td><td>11.96342</td><td>11.30507</td><td>11.77354</td><td>19.66042</td><td>100</td></tr>\n",
       "</tbody>\n",
       "</table>\n"
      ],
      "text/latex": [
       "A data.frame: 1 × 8\n",
       "\\begin{tabular}{r|llllllll}\n",
       " expr & min & lq & mean & median & uq & max & neval\\\\\n",
       " <fct> & <dbl> & <dbl> & <dbl> & <dbl> & <dbl> & <dbl> & <dbl>\\\\\n",
       "\\hline\n",
       "\t executeQuery(t) & 10.70515 & 10.95544 & 11.96342 & 11.30507 & 11.77354 & 19.66042 & 100\\\\\n",
       "\\end{tabular}\n"
      ],
      "text/markdown": [
       "\n",
       "A data.frame: 1 × 8\n",
       "\n",
       "| expr &lt;fct&gt; | min &lt;dbl&gt; | lq &lt;dbl&gt; | mean &lt;dbl&gt; | median &lt;dbl&gt; | uq &lt;dbl&gt; | max &lt;dbl&gt; | neval &lt;dbl&gt; |\n",
       "|---|---|---|---|---|---|---|---|\n",
       "| executeQuery(t) | 10.70515 | 10.95544 | 11.96342 | 11.30507 | 11.77354 | 19.66042 | 100 |\n",
       "\n"
      ],
      "text/plain": [
       "  expr            min      lq       mean     median   uq       max      neval\n",
       "1 executeQuery(t) 10.70515 10.95544 11.96342 11.30507 11.77354 19.66042 100  "
      ]
     },
     "metadata": {},
     "output_type": "display_data"
    }
   ],
   "source": [
    "summary(microbenchmark(executeQuery(t), times = 100))"
   ]
  },
  {
   "cell_type": "markdown",
   "metadata": {},
   "source": [
    "## 100k"
   ]
  },
  {
   "cell_type": "code",
   "execution_count": 8,
   "metadata": {},
   "outputs": [],
   "source": [
    "t <- createTable(100 * 1000)"
   ]
  },
  {
   "cell_type": "code",
   "execution_count": 9,
   "metadata": {},
   "outputs": [
    {
     "data": {
      "text/html": [
       "<table>\n",
       "<caption>A data.frame: 1 × 8</caption>\n",
       "<thead>\n",
       "\t<tr><th scope=col>expr</th><th scope=col>min</th><th scope=col>lq</th><th scope=col>mean</th><th scope=col>median</th><th scope=col>uq</th><th scope=col>max</th><th scope=col>neval</th></tr>\n",
       "\t<tr><th scope=col>&lt;fct&gt;</th><th scope=col>&lt;dbl&gt;</th><th scope=col>&lt;dbl&gt;</th><th scope=col>&lt;dbl&gt;</th><th scope=col>&lt;dbl&gt;</th><th scope=col>&lt;dbl&gt;</th><th scope=col>&lt;dbl&gt;</th><th scope=col>&lt;dbl&gt;</th></tr>\n",
       "</thead>\n",
       "<tbody>\n",
       "\t<tr><td>executeQuery(t)</td><td>17.46591</td><td>18.02288</td><td>19.91307</td><td>18.43539</td><td>18.93765</td><td>31.8212</td><td>100</td></tr>\n",
       "</tbody>\n",
       "</table>\n"
      ],
      "text/latex": [
       "A data.frame: 1 × 8\n",
       "\\begin{tabular}{r|llllllll}\n",
       " expr & min & lq & mean & median & uq & max & neval\\\\\n",
       " <fct> & <dbl> & <dbl> & <dbl> & <dbl> & <dbl> & <dbl> & <dbl>\\\\\n",
       "\\hline\n",
       "\t executeQuery(t) & 17.46591 & 18.02288 & 19.91307 & 18.43539 & 18.93765 & 31.8212 & 100\\\\\n",
       "\\end{tabular}\n"
      ],
      "text/markdown": [
       "\n",
       "A data.frame: 1 × 8\n",
       "\n",
       "| expr &lt;fct&gt; | min &lt;dbl&gt; | lq &lt;dbl&gt; | mean &lt;dbl&gt; | median &lt;dbl&gt; | uq &lt;dbl&gt; | max &lt;dbl&gt; | neval &lt;dbl&gt; |\n",
       "|---|---|---|---|---|---|---|---|\n",
       "| executeQuery(t) | 17.46591 | 18.02288 | 19.91307 | 18.43539 | 18.93765 | 31.8212 | 100 |\n",
       "\n"
      ],
      "text/plain": [
       "  expr            min      lq       mean     median   uq       max     neval\n",
       "1 executeQuery(t) 17.46591 18.02288 19.91307 18.43539 18.93765 31.8212 100  "
      ]
     },
     "metadata": {},
     "output_type": "display_data"
    }
   ],
   "source": [
    "summary(microbenchmark(executeQuery(t), times = 100))"
   ]
  },
  {
   "cell_type": "markdown",
   "metadata": {},
   "source": [
    "## 1M"
   ]
  },
  {
   "cell_type": "code",
   "execution_count": 10,
   "metadata": {},
   "outputs": [],
   "source": [
    "t <- createTable(1000 * 1000)"
   ]
  },
  {
   "cell_type": "code",
   "execution_count": 11,
   "metadata": {},
   "outputs": [
    {
     "data": {
      "text/html": [
       "<table>\n",
       "<caption>A data.frame: 1 × 8</caption>\n",
       "<thead>\n",
       "\t<tr><th scope=col>expr</th><th scope=col>min</th><th scope=col>lq</th><th scope=col>mean</th><th scope=col>median</th><th scope=col>uq</th><th scope=col>max</th><th scope=col>neval</th></tr>\n",
       "\t<tr><th scope=col>&lt;fct&gt;</th><th scope=col>&lt;dbl&gt;</th><th scope=col>&lt;dbl&gt;</th><th scope=col>&lt;dbl&gt;</th><th scope=col>&lt;dbl&gt;</th><th scope=col>&lt;dbl&gt;</th><th scope=col>&lt;dbl&gt;</th><th scope=col>&lt;dbl&gt;</th></tr>\n",
       "</thead>\n",
       "<tbody>\n",
       "\t<tr><td>executeQuery(t)</td><td>107.3113</td><td>115.1284</td><td>121.1965</td><td>118.0327</td><td>123.2412</td><td>191.4626</td><td>100</td></tr>\n",
       "</tbody>\n",
       "</table>\n"
      ],
      "text/latex": [
       "A data.frame: 1 × 8\n",
       "\\begin{tabular}{r|llllllll}\n",
       " expr & min & lq & mean & median & uq & max & neval\\\\\n",
       " <fct> & <dbl> & <dbl> & <dbl> & <dbl> & <dbl> & <dbl> & <dbl>\\\\\n",
       "\\hline\n",
       "\t executeQuery(t) & 107.3113 & 115.1284 & 121.1965 & 118.0327 & 123.2412 & 191.4626 & 100\\\\\n",
       "\\end{tabular}\n"
      ],
      "text/markdown": [
       "\n",
       "A data.frame: 1 × 8\n",
       "\n",
       "| expr &lt;fct&gt; | min &lt;dbl&gt; | lq &lt;dbl&gt; | mean &lt;dbl&gt; | median &lt;dbl&gt; | uq &lt;dbl&gt; | max &lt;dbl&gt; | neval &lt;dbl&gt; |\n",
       "|---|---|---|---|---|---|---|---|\n",
       "| executeQuery(t) | 107.3113 | 115.1284 | 121.1965 | 118.0327 | 123.2412 | 191.4626 | 100 |\n",
       "\n"
      ],
      "text/plain": [
       "  expr            min      lq       mean     median   uq       max      neval\n",
       "1 executeQuery(t) 107.3113 115.1284 121.1965 118.0327 123.2412 191.4626 100  "
      ]
     },
     "metadata": {},
     "output_type": "display_data"
    }
   ],
   "source": [
    "summary(microbenchmark(executeQuery(t), times = 100))"
   ]
  },
  {
   "cell_type": "markdown",
   "metadata": {},
   "source": [
    "## 10M"
   ]
  },
  {
   "cell_type": "code",
   "execution_count": 12,
   "metadata": {},
   "outputs": [],
   "source": [
    "t <- createTable(10 * 1000 * 1000)"
   ]
  },
  {
   "cell_type": "code",
   "execution_count": 13,
   "metadata": {},
   "outputs": [
    {
     "data": {
      "text/html": [
       "<table>\n",
       "<caption>A data.frame: 1 × 8</caption>\n",
       "<thead>\n",
       "\t<tr><th scope=col>expr</th><th scope=col>min</th><th scope=col>lq</th><th scope=col>mean</th><th scope=col>median</th><th scope=col>uq</th><th scope=col>max</th><th scope=col>neval</th></tr>\n",
       "\t<tr><th scope=col>&lt;fct&gt;</th><th scope=col>&lt;dbl&gt;</th><th scope=col>&lt;dbl&gt;</th><th scope=col>&lt;dbl&gt;</th><th scope=col>&lt;dbl&gt;</th><th scope=col>&lt;dbl&gt;</th><th scope=col>&lt;dbl&gt;</th><th scope=col>&lt;dbl&gt;</th></tr>\n",
       "</thead>\n",
       "<tbody>\n",
       "\t<tr><td>executeQuery(t)</td><td>1.015818</td><td>1.028831</td><td>1.054474</td><td>1.038424</td><td>1.052872</td><td>1.332118</td><td>100</td></tr>\n",
       "</tbody>\n",
       "</table>\n"
      ],
      "text/latex": [
       "A data.frame: 1 × 8\n",
       "\\begin{tabular}{r|llllllll}\n",
       " expr & min & lq & mean & median & uq & max & neval\\\\\n",
       " <fct> & <dbl> & <dbl> & <dbl> & <dbl> & <dbl> & <dbl> & <dbl>\\\\\n",
       "\\hline\n",
       "\t executeQuery(t) & 1.015818 & 1.028831 & 1.054474 & 1.038424 & 1.052872 & 1.332118 & 100\\\\\n",
       "\\end{tabular}\n"
      ],
      "text/markdown": [
       "\n",
       "A data.frame: 1 × 8\n",
       "\n",
       "| expr &lt;fct&gt; | min &lt;dbl&gt; | lq &lt;dbl&gt; | mean &lt;dbl&gt; | median &lt;dbl&gt; | uq &lt;dbl&gt; | max &lt;dbl&gt; | neval &lt;dbl&gt; |\n",
       "|---|---|---|---|---|---|---|---|\n",
       "| executeQuery(t) | 1.015818 | 1.028831 | 1.054474 | 1.038424 | 1.052872 | 1.332118 | 100 |\n",
       "\n"
      ],
      "text/plain": [
       "  expr            min      lq       mean     median   uq       max      neval\n",
       "1 executeQuery(t) 1.015818 1.028831 1.054474 1.038424 1.052872 1.332118 100  "
      ]
     },
     "metadata": {},
     "output_type": "display_data"
    }
   ],
   "source": [
    "summary(microbenchmark(executeQuery(t), times = 100))"
   ]
  },
  {
   "cell_type": "markdown",
   "metadata": {},
   "source": [
    "# 100M\n",
    "We execute the tests ten times only!"
   ]
  },
  {
   "cell_type": "code",
   "execution_count": 14,
   "metadata": {},
   "outputs": [],
   "source": [
    "t <- createTable(100 * 1000 * 1000)"
   ]
  },
  {
   "cell_type": "code",
   "execution_count": 15,
   "metadata": {},
   "outputs": [
    {
     "data": {
      "text/html": [
       "<table>\n",
       "<caption>A data.frame: 1 × 8</caption>\n",
       "<thead>\n",
       "\t<tr><th scope=col>expr</th><th scope=col>min</th><th scope=col>lq</th><th scope=col>mean</th><th scope=col>median</th><th scope=col>uq</th><th scope=col>max</th><th scope=col>neval</th></tr>\n",
       "\t<tr><th scope=col>&lt;fct&gt;</th><th scope=col>&lt;dbl&gt;</th><th scope=col>&lt;dbl&gt;</th><th scope=col>&lt;dbl&gt;</th><th scope=col>&lt;dbl&gt;</th><th scope=col>&lt;dbl&gt;</th><th scope=col>&lt;dbl&gt;</th><th scope=col>&lt;dbl&gt;</th></tr>\n",
       "</thead>\n",
       "<tbody>\n",
       "\t<tr><td>executeQuery(t)</td><td>11.57054</td><td>11.73743</td><td>12.1193</td><td>11.85043</td><td>12.10259</td><td>14.44422</td><td>10</td></tr>\n",
       "</tbody>\n",
       "</table>\n"
      ],
      "text/latex": [
       "A data.frame: 1 × 8\n",
       "\\begin{tabular}{r|llllllll}\n",
       " expr & min & lq & mean & median & uq & max & neval\\\\\n",
       " <fct> & <dbl> & <dbl> & <dbl> & <dbl> & <dbl> & <dbl> & <dbl>\\\\\n",
       "\\hline\n",
       "\t executeQuery(t) & 11.57054 & 11.73743 & 12.1193 & 11.85043 & 12.10259 & 14.44422 & 10\\\\\n",
       "\\end{tabular}\n"
      ],
      "text/markdown": [
       "\n",
       "A data.frame: 1 × 8\n",
       "\n",
       "| expr &lt;fct&gt; | min &lt;dbl&gt; | lq &lt;dbl&gt; | mean &lt;dbl&gt; | median &lt;dbl&gt; | uq &lt;dbl&gt; | max &lt;dbl&gt; | neval &lt;dbl&gt; |\n",
       "|---|---|---|---|---|---|---|---|\n",
       "| executeQuery(t) | 11.57054 | 11.73743 | 12.1193 | 11.85043 | 12.10259 | 14.44422 | 10 |\n",
       "\n"
      ],
      "text/plain": [
       "  expr            min      lq       mean    median   uq       max      neval\n",
       "1 executeQuery(t) 11.57054 11.73743 12.1193 11.85043 12.10259 14.44422 10   "
      ]
     },
     "metadata": {},
     "output_type": "display_data"
    }
   ],
   "source": [
    "summary(microbenchmark(executeQuery(t), times = 10))"
   ]
  },
  {
   "cell_type": "markdown",
   "metadata": {},
   "source": [
    "## 1B\n",
    "We execute the tests ten times only!"
   ]
  },
  {
   "cell_type": "code",
   "execution_count": 16,
   "metadata": {},
   "outputs": [
    {
     "ename": "ERROR",
     "evalue": "Error: cannot allocate vector of size 3.7 Gb\n",
     "output_type": "error",
     "traceback": [
      "Error: cannot allocate vector of size 3.7 Gb\nTraceback:\n",
      "1. createTable(1000 * 1000 * 1000)",
      "2. data.table(bucket = stri_rand_strings(rowCount, 2, pattern = \"[a-z]\"), \n .     qty = sample(1:100, rowCount, replace = TRUE), risk = sample(1:10, \n .         rowCount, replace = TRUE), weight = runif(rowCount, 0, \n .         2))   # at line 3-8 of file <text>",
      "3. as.data.table.list(x, keep.rownames = keep.rownames, check.names = check.names, \n .     .named = nd$.named)",
      "4. recycle(xi, nrow)",
      "5. copy(x)"
     ]
    }
   ],
   "source": [
    "t <- createTable(1000 * 1000 * 1000)"
   ]
  },
  {
   "cell_type": "code",
   "execution_count": null,
   "metadata": {},
   "outputs": [],
   "source": [
    "summary(microbenchmark(executeQuery(t), times = 10))"
   ]
  }
 ],
 "metadata": {
  "kernelspec": {
   "display_name": "R",
   "language": "R",
   "name": "ir"
  },
  "language_info": {
   "codemirror_mode": "r",
   "file_extension": ".r",
   "mimetype": "text/x-r-source",
   "name": "R",
   "pygments_lexer": "r",
   "version": "3.6.0"
  }
 },
 "nbformat": 4,
 "nbformat_minor": 2
}
