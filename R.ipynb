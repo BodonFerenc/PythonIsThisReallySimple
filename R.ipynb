{
 "cells": [
  {
   "cell_type": "code",
   "execution_count": 1,
   "metadata": {},
   "outputs": [],
   "source": [
    "library(data.table)\n",
    "library(stringi)\n",
    "library(microbenchmark)"
   ]
  },
  {
   "cell_type": "code",
   "execution_count": 2,
   "metadata": {},
   "outputs": [],
   "source": [
    "createTable <- function(rowCount) {\n",
    "    gc()\n",
    "    data.table(\n",
    "    bucket = stri_rand_strings(rowCount, 2, pattern = \"[a-z]\"),\n",
    "    qty = sample(1:100, rowCount, replace = TRUE),\n",
    "    risk = sample(1:10, rowCount, replace = TRUE),\n",
    "    weight = runif(rowCount, 0, 2)\n",
    "    )\n",
    "}"
   ]
  },
  {
   "cell_type": "code",
   "execution_count": 3,
   "metadata": {},
   "outputs": [],
   "source": [
    "executeQuery <- function(t) {\n",
    "    t[, .(\n",
    "    NR = .N,\n",
    "    TOTAL_QTY = sum(qty), AVG_QTY = mean(qty),\n",
    "    TOTAL_RISK = sum(risk), AVG_RISK = mean(risk),\n",
    "    WEIGHTED_QTY = weighted.mean(qty, weight),\n",
    "    WEIGHTED_RISK = weighted.mean(risk, weight)\n",
    "    ), by = bucket]\n",
    "}"
   ]
  },
  {
   "cell_type": "markdown",
   "metadata": {},
   "source": [
    "## 10 000"
   ]
  },
  {
   "cell_type": "code",
   "execution_count": 4,
   "metadata": {},
   "outputs": [],
   "source": [
    "t <- createTable(10 * 1000)"
   ]
  },
  {
   "cell_type": "code",
   "execution_count": 5,
   "metadata": {},
   "outputs": [
    {
     "data": {
      "text/html": [
       "<table>\n",
       "<caption>A data.frame: 1 × 8</caption>\n",
       "<thead>\n",
       "\t<tr><th scope=col>expr</th><th scope=col>min</th><th scope=col>lq</th><th scope=col>mean</th><th scope=col>median</th><th scope=col>uq</th><th scope=col>max</th><th scope=col>neval</th></tr>\n",
       "\t<tr><th scope=col>&lt;fct&gt;</th><th scope=col>&lt;dbl&gt;</th><th scope=col>&lt;dbl&gt;</th><th scope=col>&lt;dbl&gt;</th><th scope=col>&lt;dbl&gt;</th><th scope=col>&lt;dbl&gt;</th><th scope=col>&lt;dbl&gt;</th><th scope=col>&lt;dbl&gt;</th></tr>\n",
       "</thead>\n",
       "<tbody>\n",
       "\t<tr><td>executeQuery(t)</td><td>11.11668</td><td>11.46393</td><td>12.94802</td><td>12.29248</td><td>13.0872</td><td>21.2257</td><td>100</td></tr>\n",
       "</tbody>\n",
       "</table>\n"
      ],
      "text/latex": [
       "A data.frame: 1 × 8\n",
       "\\begin{tabular}{r|llllllll}\n",
       " expr & min & lq & mean & median & uq & max & neval\\\\\n",
       " <fct> & <dbl> & <dbl> & <dbl> & <dbl> & <dbl> & <dbl> & <dbl>\\\\\n",
       "\\hline\n",
       "\t executeQuery(t) & 11.11668 & 11.46393 & 12.94802 & 12.29248 & 13.0872 & 21.2257 & 100\\\\\n",
       "\\end{tabular}\n"
      ],
      "text/markdown": [
       "\n",
       "A data.frame: 1 × 8\n",
       "\n",
       "| expr &lt;fct&gt; | min &lt;dbl&gt; | lq &lt;dbl&gt; | mean &lt;dbl&gt; | median &lt;dbl&gt; | uq &lt;dbl&gt; | max &lt;dbl&gt; | neval &lt;dbl&gt; |\n",
       "|---|---|---|---|---|---|---|---|\n",
       "| executeQuery(t) | 11.11668 | 11.46393 | 12.94802 | 12.29248 | 13.0872 | 21.2257 | 100 |\n",
       "\n"
      ],
      "text/plain": [
       "  expr            min      lq       mean     median   uq      max     neval\n",
       "1 executeQuery(t) 11.11668 11.46393 12.94802 12.29248 13.0872 21.2257 100  "
      ]
     },
     "metadata": {},
     "output_type": "display_data"
    }
   ],
   "source": [
    "summary(microbenchmark(executeQuery(t), times = 100))"
   ]
  },
  {
   "cell_type": "markdown",
   "metadata": {},
   "source": [
    "## 100 000"
   ]
  },
  {
   "cell_type": "code",
   "execution_count": 6,
   "metadata": {},
   "outputs": [],
   "source": [
    "t <- createTable(100 * 1000)"
   ]
  },
  {
   "cell_type": "code",
   "execution_count": 7,
   "metadata": {},
   "outputs": [
    {
     "data": {
      "text/html": [
       "<table>\n",
       "<caption>A data.frame: 1 × 8</caption>\n",
       "<thead>\n",
       "\t<tr><th scope=col>expr</th><th scope=col>min</th><th scope=col>lq</th><th scope=col>mean</th><th scope=col>median</th><th scope=col>uq</th><th scope=col>max</th><th scope=col>neval</th></tr>\n",
       "\t<tr><th scope=col>&lt;fct&gt;</th><th scope=col>&lt;dbl&gt;</th><th scope=col>&lt;dbl&gt;</th><th scope=col>&lt;dbl&gt;</th><th scope=col>&lt;dbl&gt;</th><th scope=col>&lt;dbl&gt;</th><th scope=col>&lt;dbl&gt;</th><th scope=col>&lt;dbl&gt;</th></tr>\n",
       "</thead>\n",
       "<tbody>\n",
       "\t<tr><td>executeQuery(t)</td><td>18.57509</td><td>19.22308</td><td>21.46852</td><td>19.55989</td><td>20.77382</td><td>34.30894</td><td>100</td></tr>\n",
       "</tbody>\n",
       "</table>\n"
      ],
      "text/latex": [
       "A data.frame: 1 × 8\n",
       "\\begin{tabular}{r|llllllll}\n",
       " expr & min & lq & mean & median & uq & max & neval\\\\\n",
       " <fct> & <dbl> & <dbl> & <dbl> & <dbl> & <dbl> & <dbl> & <dbl>\\\\\n",
       "\\hline\n",
       "\t executeQuery(t) & 18.57509 & 19.22308 & 21.46852 & 19.55989 & 20.77382 & 34.30894 & 100\\\\\n",
       "\\end{tabular}\n"
      ],
      "text/markdown": [
       "\n",
       "A data.frame: 1 × 8\n",
       "\n",
       "| expr &lt;fct&gt; | min &lt;dbl&gt; | lq &lt;dbl&gt; | mean &lt;dbl&gt; | median &lt;dbl&gt; | uq &lt;dbl&gt; | max &lt;dbl&gt; | neval &lt;dbl&gt; |\n",
       "|---|---|---|---|---|---|---|---|\n",
       "| executeQuery(t) | 18.57509 | 19.22308 | 21.46852 | 19.55989 | 20.77382 | 34.30894 | 100 |\n",
       "\n"
      ],
      "text/plain": [
       "  expr            min      lq       mean     median   uq       max      neval\n",
       "1 executeQuery(t) 18.57509 19.22308 21.46852 19.55989 20.77382 34.30894 100  "
      ]
     },
     "metadata": {},
     "output_type": "display_data"
    }
   ],
   "source": [
    "summary(microbenchmark(executeQuery(t), times = 100))"
   ]
  },
  {
   "cell_type": "markdown",
   "metadata": {},
   "source": [
    "## 1 000 000"
   ]
  },
  {
   "cell_type": "code",
   "execution_count": 8,
   "metadata": {},
   "outputs": [],
   "source": [
    "t <- createTable(1000 * 1000)"
   ]
  },
  {
   "cell_type": "code",
   "execution_count": 9,
   "metadata": {},
   "outputs": [
    {
     "data": {
      "text/html": [
       "<table>\n",
       "<caption>A data.frame: 1 × 8</caption>\n",
       "<thead>\n",
       "\t<tr><th scope=col>expr</th><th scope=col>min</th><th scope=col>lq</th><th scope=col>mean</th><th scope=col>median</th><th scope=col>uq</th><th scope=col>max</th><th scope=col>neval</th></tr>\n",
       "\t<tr><th scope=col>&lt;fct&gt;</th><th scope=col>&lt;dbl&gt;</th><th scope=col>&lt;dbl&gt;</th><th scope=col>&lt;dbl&gt;</th><th scope=col>&lt;dbl&gt;</th><th scope=col>&lt;dbl&gt;</th><th scope=col>&lt;dbl&gt;</th><th scope=col>&lt;dbl&gt;</th></tr>\n",
       "</thead>\n",
       "<tbody>\n",
       "\t<tr><td>executeQuery(t)</td><td>108.4436</td><td>116.855</td><td>121.8517</td><td>118.9675</td><td>121.9411</td><td>192.9456</td><td>100</td></tr>\n",
       "</tbody>\n",
       "</table>\n"
      ],
      "text/latex": [
       "A data.frame: 1 × 8\n",
       "\\begin{tabular}{r|llllllll}\n",
       " expr & min & lq & mean & median & uq & max & neval\\\\\n",
       " <fct> & <dbl> & <dbl> & <dbl> & <dbl> & <dbl> & <dbl> & <dbl>\\\\\n",
       "\\hline\n",
       "\t executeQuery(t) & 108.4436 & 116.855 & 121.8517 & 118.9675 & 121.9411 & 192.9456 & 100\\\\\n",
       "\\end{tabular}\n"
      ],
      "text/markdown": [
       "\n",
       "A data.frame: 1 × 8\n",
       "\n",
       "| expr &lt;fct&gt; | min &lt;dbl&gt; | lq &lt;dbl&gt; | mean &lt;dbl&gt; | median &lt;dbl&gt; | uq &lt;dbl&gt; | max &lt;dbl&gt; | neval &lt;dbl&gt; |\n",
       "|---|---|---|---|---|---|---|---|\n",
       "| executeQuery(t) | 108.4436 | 116.855 | 121.8517 | 118.9675 | 121.9411 | 192.9456 | 100 |\n",
       "\n"
      ],
      "text/plain": [
       "  expr            min      lq      mean     median   uq       max      neval\n",
       "1 executeQuery(t) 108.4436 116.855 121.8517 118.9675 121.9411 192.9456 100  "
      ]
     },
     "metadata": {},
     "output_type": "display_data"
    }
   ],
   "source": [
    "summary(microbenchmark(executeQuery(t), times = 100))"
   ]
  },
  {
   "cell_type": "markdown",
   "metadata": {},
   "source": [
    "## 10 000 000"
   ]
  },
  {
   "cell_type": "code",
   "execution_count": 10,
   "metadata": {},
   "outputs": [],
   "source": [
    "t <- createTable(10 * 1000 * 1000)"
   ]
  },
  {
   "cell_type": "code",
   "execution_count": 11,
   "metadata": {},
   "outputs": [
    {
     "data": {
      "text/html": [
       "<table>\n",
       "<caption>A data.frame: 1 × 8</caption>\n",
       "<thead>\n",
       "\t<tr><th scope=col>expr</th><th scope=col>min</th><th scope=col>lq</th><th scope=col>mean</th><th scope=col>median</th><th scope=col>uq</th><th scope=col>max</th><th scope=col>neval</th></tr>\n",
       "\t<tr><th scope=col>&lt;fct&gt;</th><th scope=col>&lt;dbl&gt;</th><th scope=col>&lt;dbl&gt;</th><th scope=col>&lt;dbl&gt;</th><th scope=col>&lt;dbl&gt;</th><th scope=col>&lt;dbl&gt;</th><th scope=col>&lt;dbl&gt;</th><th scope=col>&lt;dbl&gt;</th></tr>\n",
       "</thead>\n",
       "<tbody>\n",
       "\t<tr><td>executeQuery(t)</td><td>1.039559</td><td>1.052319</td><td>1.084013</td><td>1.060406</td><td>1.084514</td><td>1.398073</td><td>100</td></tr>\n",
       "</tbody>\n",
       "</table>\n"
      ],
      "text/latex": [
       "A data.frame: 1 × 8\n",
       "\\begin{tabular}{r|llllllll}\n",
       " expr & min & lq & mean & median & uq & max & neval\\\\\n",
       " <fct> & <dbl> & <dbl> & <dbl> & <dbl> & <dbl> & <dbl> & <dbl>\\\\\n",
       "\\hline\n",
       "\t executeQuery(t) & 1.039559 & 1.052319 & 1.084013 & 1.060406 & 1.084514 & 1.398073 & 100\\\\\n",
       "\\end{tabular}\n"
      ],
      "text/markdown": [
       "\n",
       "A data.frame: 1 × 8\n",
       "\n",
       "| expr &lt;fct&gt; | min &lt;dbl&gt; | lq &lt;dbl&gt; | mean &lt;dbl&gt; | median &lt;dbl&gt; | uq &lt;dbl&gt; | max &lt;dbl&gt; | neval &lt;dbl&gt; |\n",
       "|---|---|---|---|---|---|---|---|\n",
       "| executeQuery(t) | 1.039559 | 1.052319 | 1.084013 | 1.060406 | 1.084514 | 1.398073 | 100 |\n",
       "\n"
      ],
      "text/plain": [
       "  expr            min      lq       mean     median   uq       max      neval\n",
       "1 executeQuery(t) 1.039559 1.052319 1.084013 1.060406 1.084514 1.398073 100  "
      ]
     },
     "metadata": {},
     "output_type": "display_data"
    }
   ],
   "source": [
    "summary(microbenchmark(executeQuery(t), times = 100))"
   ]
  },
  {
   "cell_type": "markdown",
   "metadata": {},
   "source": [
    "# 100 000 000\n",
    "We execute the tests ten times only!"
   ]
  },
  {
   "cell_type": "code",
   "execution_count": 12,
   "metadata": {},
   "outputs": [],
   "source": [
    "t <- createTable(100 * 1000 * 1000)"
   ]
  },
  {
   "cell_type": "code",
   "execution_count": 13,
   "metadata": {},
   "outputs": [
    {
     "data": {
      "text/html": [
       "<table>\n",
       "<caption>A data.frame: 1 × 8</caption>\n",
       "<thead>\n",
       "\t<tr><th scope=col>expr</th><th scope=col>min</th><th scope=col>lq</th><th scope=col>mean</th><th scope=col>median</th><th scope=col>uq</th><th scope=col>max</th><th scope=col>neval</th></tr>\n",
       "\t<tr><th scope=col>&lt;fct&gt;</th><th scope=col>&lt;dbl&gt;</th><th scope=col>&lt;dbl&gt;</th><th scope=col>&lt;dbl&gt;</th><th scope=col>&lt;dbl&gt;</th><th scope=col>&lt;dbl&gt;</th><th scope=col>&lt;dbl&gt;</th><th scope=col>&lt;dbl&gt;</th></tr>\n",
       "</thead>\n",
       "<tbody>\n",
       "\t<tr><td>executeQuery(t)</td><td>12.74955</td><td>12.89873</td><td>13.8897</td><td>13.39017</td><td>14.51712</td><td>16.57902</td><td>10</td></tr>\n",
       "</tbody>\n",
       "</table>\n"
      ],
      "text/latex": [
       "A data.frame: 1 × 8\n",
       "\\begin{tabular}{r|llllllll}\n",
       " expr & min & lq & mean & median & uq & max & neval\\\\\n",
       " <fct> & <dbl> & <dbl> & <dbl> & <dbl> & <dbl> & <dbl> & <dbl>\\\\\n",
       "\\hline\n",
       "\t executeQuery(t) & 12.74955 & 12.89873 & 13.8897 & 13.39017 & 14.51712 & 16.57902 & 10\\\\\n",
       "\\end{tabular}\n"
      ],
      "text/markdown": [
       "\n",
       "A data.frame: 1 × 8\n",
       "\n",
       "| expr &lt;fct&gt; | min &lt;dbl&gt; | lq &lt;dbl&gt; | mean &lt;dbl&gt; | median &lt;dbl&gt; | uq &lt;dbl&gt; | max &lt;dbl&gt; | neval &lt;dbl&gt; |\n",
       "|---|---|---|---|---|---|---|---|\n",
       "| executeQuery(t) | 12.74955 | 12.89873 | 13.8897 | 13.39017 | 14.51712 | 16.57902 | 10 |\n",
       "\n"
      ],
      "text/plain": [
       "  expr            min      lq       mean    median   uq       max      neval\n",
       "1 executeQuery(t) 12.74955 12.89873 13.8897 13.39017 14.51712 16.57902 10   "
      ]
     },
     "metadata": {},
     "output_type": "display_data"
    }
   ],
   "source": [
    "summary(microbenchmark(executeQuery(t), times = 10))"
   ]
  },
  {
   "cell_type": "markdown",
   "metadata": {},
   "source": [
    "## 1 000 000 000\n",
    "We execute the tests ten times only!"
   ]
  },
  {
   "cell_type": "code",
   "execution_count": 14,
   "metadata": {},
   "outputs": [
    {
     "ename": "ERROR",
     "evalue": "Error: cannot allocate vector of size 7.5 Gb\n",
     "output_type": "error",
     "traceback": [
      "Error: cannot allocate vector of size 7.5 Gb\nTraceback:\n",
      "1. createTable(1000 * 1000 * 1000)",
      "2. data.table(bucket = stri_rand_strings(rowCount, 2, pattern = \"[a-z]\"), \n .     qty = sample(1:100, rowCount, replace = TRUE), risk = sample(1:10, \n .         rowCount, replace = TRUE), weight = runif(rowCount, 0, \n .         2))   # at line 3-8 of file <text>",
      "3. as.data.table.list(x, keep.rownames = keep.rownames, check.names = check.names, \n .     .named = nd$.named)",
      "4. recycle(xi, nrow)",
      "5. copy(x)"
     ]
    }
   ],
   "source": [
    "t <- createTable(1000 * 1000 * 1000)"
   ]
  },
  {
   "cell_type": "code",
   "execution_count": null,
   "metadata": {},
   "outputs": [],
   "source": [
    "summary(microbenchmark(executeQuery(t), times = 10))"
   ]
  }
 ],
 "metadata": {
  "kernelspec": {
   "display_name": "R",
   "language": "R",
   "name": "ir"
  },
  "language_info": {
   "codemirror_mode": "r",
   "file_extension": ".r",
   "mimetype": "text/x-r-source",
   "name": "R",
   "pygments_lexer": "r",
   "version": "3.6.0"
  }
 },
 "nbformat": 4,
 "nbformat_minor": 2
}
