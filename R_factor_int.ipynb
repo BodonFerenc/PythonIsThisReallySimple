{
 "cells": [
  {
   "cell_type": "markdown",
   "metadata": {},
   "source": [
    "## Hardware Details\n",
    "[GCP](https://cloud.google.com/) VM: [n1-highmem-16](https://cloud.google.com/compute/docs/machine-types#n1_machine_types) (16 vCPUs, 104 GB memory)"
   ]
  },
  {
   "cell_type": "code",
   "execution_count": 1,
   "metadata": {
    "scrolled": true
   },
   "outputs": [
    {
     "name": "stdout",
     "output_type": "stream",
     "text": [
      "Architecture:          x86_64\n",
      "CPU op-mode(s):        32-bit, 64-bit\n",
      "Byte Order:            Little Endian\n",
      "CPU(s):                16\n",
      "On-line CPU(s) list:   0-15\n",
      "Thread(s) per core:    2\n",
      "Core(s) per socket:    8\n",
      "Socket(s):             1\n",
      "NUMA node(s):          1\n",
      "Vendor ID:             GenuineIntel\n",
      "CPU family:            6\n",
      "Model:                 63\n",
      "Model name:            Intel(R) Xeon(R) CPU @ 2.30GHz\n",
      "Stepping:              0\n",
      "CPU MHz:               2300.000\n",
      "BogoMIPS:              4600.00\n",
      "Hypervisor vendor:     KVM\n",
      "Virtualization type:   full\n",
      "L1d cache:             32K\n",
      "L1i cache:             32K\n",
      "L2 cache:              256K\n",
      "L3 cache:              46080K\n",
      "NUMA node0 CPU(s):     0-15\n",
      "Flags:                 fpu vme de pse tsc msr pae mce cx8 apic sep mtrr pge mca cmov pat pse36 clflush mmx fxsr sse sse2 ss ht syscall nx pdpe1gb rdtscp lm constant_tsc rep_good nopl xtopology nonstop_tsc eagerfpu pni pclmulqdq ssse3 fma cx16 pcid sse4_1 sse4_2 x2apic movbe popcnt aes xsave avx f16c rdrand hypervisor lahf_lm abm invpcid_single ssbd ibrs ibpb stibp fsgsbase tsc_adjust bmi1 avx2 smep bmi2 erms invpcid xsaveopt arat md_clear spec_ctrl intel_stibp arch_capabilities\n"
     ]
    }
   ],
   "source": [
    "cat(system(\"lscpu\", intern=TRUE), sep='\\n')"
   ]
  },
  {
   "cell_type": "code",
   "execution_count": 2,
   "metadata": {
    "scrolled": true
   },
   "outputs": [
    {
     "name": "stdout",
     "output_type": "stream",
     "text": [
      "MemTotal:       107091244 kB\n"
     ]
    }
   ],
   "source": [
    "cat(system(\"cat /proc/meminfo | head -n1\", intern=TRUE), sep='\\n')"
   ]
  },
  {
   "cell_type": "markdown",
   "metadata": {},
   "source": [
    "## Basic functions"
   ]
  },
  {
   "cell_type": "code",
   "execution_count": 3,
   "metadata": {},
   "outputs": [],
   "source": [
    "library(data.table)\n",
    "library(stringi)\n",
    "library(microbenchmark)"
   ]
  },
  {
   "cell_type": "code",
   "execution_count": 4,
   "metadata": {},
   "outputs": [],
   "source": [
    "createTable <- function(rowCount) {\n",
    "    gc()\n",
    "    data.table(\n",
    "        bucket = factor(\n",
    "            sample(1:26^2, rowCount, replace = TRUE),\n",
    "            levels = 1:26^2,\n",
    "            labels = apply(expand.grid(letters, letters), FUN = paste, MARGIN = 1, collapse = '')),\n",
    "        qty = sample(1:100, rowCount, replace = TRUE),\n",
    "        risk = sample(1:10, rowCount, replace = TRUE),\n",
    "        weight = runif(rowCount, 0, 2)\n",
    "    )\n",
    "}"
   ]
  },
  {
   "cell_type": "code",
   "execution_count": 5,
   "metadata": {},
   "outputs": [],
   "source": [
    "executeQuery <- function(t) {\n",
    "    t[, .(\n",
    "        NR = .N,\n",
    "        TOTAL_QTY = sum(qty), AVG_QTY = mean(qty),\n",
    "        TOTAL_RISK = sum(risk), AVG_RISK = mean(risk),\n",
    "        WEIGHTED_QTY = weighted.mean(qty, weight),\n",
    "        WEIGHTED_RISK = weighted.mean(risk, weight)\n",
    "    ), by = bucket]\n",
    "}"
   ]
  },
  {
   "cell_type": "code",
   "execution_count": 6,
   "metadata": {},
   "outputs": [],
   "source": [
    "setDTthreads(threads = 1, restore_after_fork = FALSE)"
   ]
  },
  {
   "cell_type": "markdown",
   "metadata": {},
   "source": [
    "## 10k"
   ]
  },
  {
   "cell_type": "code",
   "execution_count": 7,
   "metadata": {},
   "outputs": [],
   "source": [
    "t <- createTable(10 * 1000)"
   ]
  },
  {
   "cell_type": "code",
   "execution_count": 8,
   "metadata": {},
   "outputs": [
    {
     "data": {
      "text/html": [
       "<table>\n",
       "<caption>A data.frame: 1 × 8</caption>\n",
       "<thead>\n",
       "\t<tr><th scope=col>expr</th><th scope=col>min</th><th scope=col>lq</th><th scope=col>mean</th><th scope=col>median</th><th scope=col>uq</th><th scope=col>max</th><th scope=col>neval</th></tr>\n",
       "\t<tr><th scope=col>&lt;fct&gt;</th><th scope=col>&lt;dbl&gt;</th><th scope=col>&lt;dbl&gt;</th><th scope=col>&lt;dbl&gt;</th><th scope=col>&lt;dbl&gt;</th><th scope=col>&lt;dbl&gt;</th><th scope=col>&lt;dbl&gt;</th><th scope=col>&lt;dbl&gt;</th></tr>\n",
       "</thead>\n",
       "<tbody>\n",
       "\t<tr><td>executeQuery(t)</td><td>10.19783</td><td>10.36306</td><td>11.26613</td><td>10.47613</td><td>10.98221</td><td>19.3714</td><td>100</td></tr>\n",
       "</tbody>\n",
       "</table>\n"
      ],
      "text/latex": [
       "A data.frame: 1 × 8\n",
       "\\begin{tabular}{r|llllllll}\n",
       " expr & min & lq & mean & median & uq & max & neval\\\\\n",
       " <fct> & <dbl> & <dbl> & <dbl> & <dbl> & <dbl> & <dbl> & <dbl>\\\\\n",
       "\\hline\n",
       "\t executeQuery(t) & 10.19783 & 10.36306 & 11.26613 & 10.47613 & 10.98221 & 19.3714 & 100\\\\\n",
       "\\end{tabular}\n"
      ],
      "text/markdown": [
       "\n",
       "A data.frame: 1 × 8\n",
       "\n",
       "| expr &lt;fct&gt; | min &lt;dbl&gt; | lq &lt;dbl&gt; | mean &lt;dbl&gt; | median &lt;dbl&gt; | uq &lt;dbl&gt; | max &lt;dbl&gt; | neval &lt;dbl&gt; |\n",
       "|---|---|---|---|---|---|---|---|\n",
       "| executeQuery(t) | 10.19783 | 10.36306 | 11.26613 | 10.47613 | 10.98221 | 19.3714 | 100 |\n",
       "\n"
      ],
      "text/plain": [
       "  expr            min      lq       mean     median   uq       max     neval\n",
       "1 executeQuery(t) 10.19783 10.36306 11.26613 10.47613 10.98221 19.3714 100  "
      ]
     },
     "metadata": {},
     "output_type": "display_data"
    }
   ],
   "source": [
    "summary(microbenchmark(executeQuery(t), times = 100))"
   ]
  },
  {
   "cell_type": "markdown",
   "metadata": {},
   "source": [
    "## 100k"
   ]
  },
  {
   "cell_type": "code",
   "execution_count": 9,
   "metadata": {},
   "outputs": [],
   "source": [
    "t <- createTable(100 * 1000)"
   ]
  },
  {
   "cell_type": "code",
   "execution_count": 10,
   "metadata": {},
   "outputs": [
    {
     "data": {
      "text/html": [
       "<table>\n",
       "<caption>A data.frame: 1 × 8</caption>\n",
       "<thead>\n",
       "\t<tr><th scope=col>expr</th><th scope=col>min</th><th scope=col>lq</th><th scope=col>mean</th><th scope=col>median</th><th scope=col>uq</th><th scope=col>max</th><th scope=col>neval</th></tr>\n",
       "\t<tr><th scope=col>&lt;fct&gt;</th><th scope=col>&lt;dbl&gt;</th><th scope=col>&lt;dbl&gt;</th><th scope=col>&lt;dbl&gt;</th><th scope=col>&lt;dbl&gt;</th><th scope=col>&lt;dbl&gt;</th><th scope=col>&lt;dbl&gt;</th><th scope=col>&lt;dbl&gt;</th></tr>\n",
       "</thead>\n",
       "<tbody>\n",
       "\t<tr><td>executeQuery(t)</td><td>18.19039</td><td>18.5278</td><td>20.19558</td><td>18.71863</td><td>19.05117</td><td>33.26562</td><td>100</td></tr>\n",
       "</tbody>\n",
       "</table>\n"
      ],
      "text/latex": [
       "A data.frame: 1 × 8\n",
       "\\begin{tabular}{r|llllllll}\n",
       " expr & min & lq & mean & median & uq & max & neval\\\\\n",
       " <fct> & <dbl> & <dbl> & <dbl> & <dbl> & <dbl> & <dbl> & <dbl>\\\\\n",
       "\\hline\n",
       "\t executeQuery(t) & 18.19039 & 18.5278 & 20.19558 & 18.71863 & 19.05117 & 33.26562 & 100\\\\\n",
       "\\end{tabular}\n"
      ],
      "text/markdown": [
       "\n",
       "A data.frame: 1 × 8\n",
       "\n",
       "| expr &lt;fct&gt; | min &lt;dbl&gt; | lq &lt;dbl&gt; | mean &lt;dbl&gt; | median &lt;dbl&gt; | uq &lt;dbl&gt; | max &lt;dbl&gt; | neval &lt;dbl&gt; |\n",
       "|---|---|---|---|---|---|---|---|\n",
       "| executeQuery(t) | 18.19039 | 18.5278 | 20.19558 | 18.71863 | 19.05117 | 33.26562 | 100 |\n",
       "\n"
      ],
      "text/plain": [
       "  expr            min      lq      mean     median   uq       max      neval\n",
       "1 executeQuery(t) 18.19039 18.5278 20.19558 18.71863 19.05117 33.26562 100  "
      ]
     },
     "metadata": {},
     "output_type": "display_data"
    }
   ],
   "source": [
    "summary(microbenchmark(executeQuery(t), times = 100))"
   ]
  },
  {
   "cell_type": "markdown",
   "metadata": {},
   "source": [
    "## 1M"
   ]
  },
  {
   "cell_type": "code",
   "execution_count": 11,
   "metadata": {},
   "outputs": [],
   "source": [
    "t <- createTable(1000 * 1000)"
   ]
  },
  {
   "cell_type": "code",
   "execution_count": 12,
   "metadata": {},
   "outputs": [
    {
     "data": {
      "text/html": [
       "<table>\n",
       "<caption>A data.frame: 1 × 8</caption>\n",
       "<thead>\n",
       "\t<tr><th scope=col>expr</th><th scope=col>min</th><th scope=col>lq</th><th scope=col>mean</th><th scope=col>median</th><th scope=col>uq</th><th scope=col>max</th><th scope=col>neval</th></tr>\n",
       "\t<tr><th scope=col>&lt;fct&gt;</th><th scope=col>&lt;dbl&gt;</th><th scope=col>&lt;dbl&gt;</th><th scope=col>&lt;dbl&gt;</th><th scope=col>&lt;dbl&gt;</th><th scope=col>&lt;dbl&gt;</th><th scope=col>&lt;dbl&gt;</th><th scope=col>&lt;dbl&gt;</th></tr>\n",
       "</thead>\n",
       "<tbody>\n",
       "\t<tr><td>executeQuery(t)</td><td>103.5477</td><td>109.2683</td><td>112.9028</td><td>111.1418</td><td>113.3463</td><td>165.32</td><td>100</td></tr>\n",
       "</tbody>\n",
       "</table>\n"
      ],
      "text/latex": [
       "A data.frame: 1 × 8\n",
       "\\begin{tabular}{r|llllllll}\n",
       " expr & min & lq & mean & median & uq & max & neval\\\\\n",
       " <fct> & <dbl> & <dbl> & <dbl> & <dbl> & <dbl> & <dbl> & <dbl>\\\\\n",
       "\\hline\n",
       "\t executeQuery(t) & 103.5477 & 109.2683 & 112.9028 & 111.1418 & 113.3463 & 165.32 & 100\\\\\n",
       "\\end{tabular}\n"
      ],
      "text/markdown": [
       "\n",
       "A data.frame: 1 × 8\n",
       "\n",
       "| expr &lt;fct&gt; | min &lt;dbl&gt; | lq &lt;dbl&gt; | mean &lt;dbl&gt; | median &lt;dbl&gt; | uq &lt;dbl&gt; | max &lt;dbl&gt; | neval &lt;dbl&gt; |\n",
       "|---|---|---|---|---|---|---|---|\n",
       "| executeQuery(t) | 103.5477 | 109.2683 | 112.9028 | 111.1418 | 113.3463 | 165.32 | 100 |\n",
       "\n"
      ],
      "text/plain": [
       "  expr            min      lq       mean     median   uq       max    neval\n",
       "1 executeQuery(t) 103.5477 109.2683 112.9028 111.1418 113.3463 165.32 100  "
      ]
     },
     "metadata": {},
     "output_type": "display_data"
    }
   ],
   "source": [
    "summary(microbenchmark(executeQuery(t), times = 100))"
   ]
  },
  {
   "cell_type": "markdown",
   "metadata": {},
   "source": [
    "## 10M"
   ]
  },
  {
   "cell_type": "code",
   "execution_count": 13,
   "metadata": {},
   "outputs": [],
   "source": [
    "t <- createTable(10 * 1000 * 1000)"
   ]
  },
  {
   "cell_type": "code",
   "execution_count": 14,
   "metadata": {},
   "outputs": [
    {
     "data": {
      "text/html": [
       "<table>\n",
       "<caption>A data.frame: 1 × 8</caption>\n",
       "<thead>\n",
       "\t<tr><th scope=col>expr</th><th scope=col>min</th><th scope=col>lq</th><th scope=col>mean</th><th scope=col>median</th><th scope=col>uq</th><th scope=col>max</th><th scope=col>neval</th></tr>\n",
       "\t<tr><th scope=col>&lt;fct&gt;</th><th scope=col>&lt;dbl&gt;</th><th scope=col>&lt;dbl&gt;</th><th scope=col>&lt;dbl&gt;</th><th scope=col>&lt;dbl&gt;</th><th scope=col>&lt;dbl&gt;</th><th scope=col>&lt;dbl&gt;</th><th scope=col>&lt;dbl&gt;</th></tr>\n",
       "</thead>\n",
       "<tbody>\n",
       "\t<tr><td>executeQuery(t)</td><td>949.9135</td><td>969.7432</td><td>1004.169</td><td>984.649</td><td>1010.516</td><td>1357.781</td><td>100</td></tr>\n",
       "</tbody>\n",
       "</table>\n"
      ],
      "text/latex": [
       "A data.frame: 1 × 8\n",
       "\\begin{tabular}{r|llllllll}\n",
       " expr & min & lq & mean & median & uq & max & neval\\\\\n",
       " <fct> & <dbl> & <dbl> & <dbl> & <dbl> & <dbl> & <dbl> & <dbl>\\\\\n",
       "\\hline\n",
       "\t executeQuery(t) & 949.9135 & 969.7432 & 1004.169 & 984.649 & 1010.516 & 1357.781 & 100\\\\\n",
       "\\end{tabular}\n"
      ],
      "text/markdown": [
       "\n",
       "A data.frame: 1 × 8\n",
       "\n",
       "| expr &lt;fct&gt; | min &lt;dbl&gt; | lq &lt;dbl&gt; | mean &lt;dbl&gt; | median &lt;dbl&gt; | uq &lt;dbl&gt; | max &lt;dbl&gt; | neval &lt;dbl&gt; |\n",
       "|---|---|---|---|---|---|---|---|\n",
       "| executeQuery(t) | 949.9135 | 969.7432 | 1004.169 | 984.649 | 1010.516 | 1357.781 | 100 |\n",
       "\n"
      ],
      "text/plain": [
       "  expr            min      lq       mean     median  uq       max      neval\n",
       "1 executeQuery(t) 949.9135 969.7432 1004.169 984.649 1010.516 1357.781 100  "
      ]
     },
     "metadata": {},
     "output_type": "display_data"
    }
   ],
   "source": [
    "summary(microbenchmark(executeQuery(t), times = 100))"
   ]
  },
  {
   "cell_type": "markdown",
   "metadata": {},
   "source": [
    "# 100M\n",
    "We execute the tests ten times only!"
   ]
  },
  {
   "cell_type": "code",
   "execution_count": 15,
   "metadata": {},
   "outputs": [],
   "source": [
    "t <- createTable(100 * 1000 * 1000)"
   ]
  },
  {
   "cell_type": "code",
   "execution_count": 16,
   "metadata": {},
   "outputs": [
    {
     "data": {
      "text/html": [
       "<table>\n",
       "<caption>A data.frame: 1 × 8</caption>\n",
       "<thead>\n",
       "\t<tr><th scope=col>expr</th><th scope=col>min</th><th scope=col>lq</th><th scope=col>mean</th><th scope=col>median</th><th scope=col>uq</th><th scope=col>max</th><th scope=col>neval</th></tr>\n",
       "\t<tr><th scope=col>&lt;fct&gt;</th><th scope=col>&lt;dbl&gt;</th><th scope=col>&lt;dbl&gt;</th><th scope=col>&lt;dbl&gt;</th><th scope=col>&lt;dbl&gt;</th><th scope=col>&lt;dbl&gt;</th><th scope=col>&lt;dbl&gt;</th><th scope=col>&lt;dbl&gt;</th></tr>\n",
       "</thead>\n",
       "<tbody>\n",
       "\t<tr><td>executeQuery(t)</td><td>9.936694</td><td>9.945228</td><td>10.24156</td><td>10.09912</td><td>10.23078</td><td>11.78579</td><td>10</td></tr>\n",
       "</tbody>\n",
       "</table>\n"
      ],
      "text/latex": [
       "A data.frame: 1 × 8\n",
       "\\begin{tabular}{r|llllllll}\n",
       " expr & min & lq & mean & median & uq & max & neval\\\\\n",
       " <fct> & <dbl> & <dbl> & <dbl> & <dbl> & <dbl> & <dbl> & <dbl>\\\\\n",
       "\\hline\n",
       "\t executeQuery(t) & 9.936694 & 9.945228 & 10.24156 & 10.09912 & 10.23078 & 11.78579 & 10\\\\\n",
       "\\end{tabular}\n"
      ],
      "text/markdown": [
       "\n",
       "A data.frame: 1 × 8\n",
       "\n",
       "| expr &lt;fct&gt; | min &lt;dbl&gt; | lq &lt;dbl&gt; | mean &lt;dbl&gt; | median &lt;dbl&gt; | uq &lt;dbl&gt; | max &lt;dbl&gt; | neval &lt;dbl&gt; |\n",
       "|---|---|---|---|---|---|---|---|\n",
       "| executeQuery(t) | 9.936694 | 9.945228 | 10.24156 | 10.09912 | 10.23078 | 11.78579 | 10 |\n",
       "\n"
      ],
      "text/plain": [
       "  expr            min      lq       mean     median   uq       max      neval\n",
       "1 executeQuery(t) 9.936694 9.945228 10.24156 10.09912 10.23078 11.78579 10   "
      ]
     },
     "metadata": {},
     "output_type": "display_data"
    }
   ],
   "source": [
    "summary(microbenchmark(executeQuery(t), times = 10))"
   ]
  },
  {
   "cell_type": "markdown",
   "metadata": {},
   "source": [
    "## 1B\n",
    "We execute the tests ten times only!"
   ]
  },
  {
   "cell_type": "code",
   "execution_count": 17,
   "metadata": {},
   "outputs": [],
   "source": [
    "t <- createTable(1000 * 1000 * 1000)"
   ]
  },
  {
   "cell_type": "code",
   "execution_count": 18,
   "metadata": {},
   "outputs": [
    {
     "data": {
      "text/html": [
       "<table>\n",
       "<caption>A data.frame: 1 × 8</caption>\n",
       "<thead>\n",
       "\t<tr><th scope=col>expr</th><th scope=col>min</th><th scope=col>lq</th><th scope=col>mean</th><th scope=col>median</th><th scope=col>uq</th><th scope=col>max</th><th scope=col>neval</th></tr>\n",
       "\t<tr><th scope=col>&lt;fct&gt;</th><th scope=col>&lt;dbl&gt;</th><th scope=col>&lt;dbl&gt;</th><th scope=col>&lt;dbl&gt;</th><th scope=col>&lt;dbl&gt;</th><th scope=col>&lt;dbl&gt;</th><th scope=col>&lt;dbl&gt;</th><th scope=col>&lt;dbl&gt;</th></tr>\n",
       "</thead>\n",
       "<tbody>\n",
       "\t<tr><td>executeQuery(t)</td><td>99.28312</td><td>99.64165</td><td>101.5662</td><td>100.4893</td><td>101.6806</td><td>110.4732</td><td>10</td></tr>\n",
       "</tbody>\n",
       "</table>\n"
      ],
      "text/latex": [
       "A data.frame: 1 × 8\n",
       "\\begin{tabular}{r|llllllll}\n",
       " expr & min & lq & mean & median & uq & max & neval\\\\\n",
       " <fct> & <dbl> & <dbl> & <dbl> & <dbl> & <dbl> & <dbl> & <dbl>\\\\\n",
       "\\hline\n",
       "\t executeQuery(t) & 99.28312 & 99.64165 & 101.5662 & 100.4893 & 101.6806 & 110.4732 & 10\\\\\n",
       "\\end{tabular}\n"
      ],
      "text/markdown": [
       "\n",
       "A data.frame: 1 × 8\n",
       "\n",
       "| expr &lt;fct&gt; | min &lt;dbl&gt; | lq &lt;dbl&gt; | mean &lt;dbl&gt; | median &lt;dbl&gt; | uq &lt;dbl&gt; | max &lt;dbl&gt; | neval &lt;dbl&gt; |\n",
       "|---|---|---|---|---|---|---|---|\n",
       "| executeQuery(t) | 99.28312 | 99.64165 | 101.5662 | 100.4893 | 101.6806 | 110.4732 | 10 |\n",
       "\n"
      ],
      "text/plain": [
       "  expr            min      lq       mean     median   uq       max      neval\n",
       "1 executeQuery(t) 99.28312 99.64165 101.5662 100.4893 101.6806 110.4732 10   "
      ]
     },
     "metadata": {},
     "output_type": "display_data"
    }
   ],
   "source": [
    "summary(microbenchmark(executeQuery(t), times = 10))"
   ]
  }
 ],
 "metadata": {
  "kernelspec": {
   "display_name": "R",
   "language": "R",
   "name": "ir"
  },
  "language_info": {
   "codemirror_mode": "r",
   "file_extension": ".r",
   "mimetype": "text/x-r-source",
   "name": "R",
   "pygments_lexer": "r",
   "version": "3.6.0"
  }
 },
 "nbformat": 4,
 "nbformat_minor": 2
}
