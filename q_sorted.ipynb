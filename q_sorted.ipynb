{
 "cells": [
  {
   "cell_type": "markdown",
   "metadata": {},
   "source": [
    "## Hardware Details\n",
    "[GCP](https://cloud.google.com/) VM: [n1-highmem-16](https://cloud.google.com/compute/docs/machine-types#n1_machine_types) (16 vCPUs, 104 GB memory)"
   ]
  },
  {
   "cell_type": "code",
   "execution_count": 1,
   "metadata": {
    "scrolled": true
   },
   "outputs": [
    {
     "data": {
      "text/plain": [
       "\"Architecture:          x86_64\"\n",
       "\"CPU op-mode(s):        32-bit, 64-bit\"\n",
       "\"Byte Order:            Little Endian\"\n",
       "\"CPU(s):                16\"\n",
       "\"On-line CPU(s) list:   0-15\"\n",
       "\"Thread(s) per core:    2\"\n",
       "\"Core(s) per socket:    8\"\n",
       "\"Socket(s):             1\"\n",
       "\"NUMA node(s):          1\"\n",
       "\"Vendor ID:             GenuineIntel\"\n",
       "\"CPU family:            6\"\n",
       "\"Model:                 63\"\n",
       "\"Model name:            Intel(R) Xeon(R) CPU @ 2.30GHz\"\n",
       "\"Stepping:              0\"\n",
       "\"CPU MHz:               2300.000\"\n",
       "\"BogoMIPS:              4600.00\"\n",
       "\"Hypervisor vendor:     KVM\"\n",
       "\"Virtualization type:   full\"\n",
       "\"L1d cache:             32K\"\n",
       "\"L1i cache:             32K\"\n",
       "\"L2 cache:              256K\"\n",
       "\"L3 cache:              46080K\"\n",
       "..\n"
      ]
     },
     "execution_count": 1,
     "metadata": {},
     "output_type": "execute_result"
    }
   ],
   "source": [
    "system \"lscpu\""
   ]
  },
  {
   "cell_type": "code",
   "execution_count": 2,
   "metadata": {
    "scrolled": true
   },
   "outputs": [
    {
     "data": {
      "text/plain": [
       "\"MemTotal:       107091244 kB\"\n"
      ]
     },
     "execution_count": 2,
     "metadata": {},
     "output_type": "execute_result"
    }
   ],
   "source": [
    "system \"cat /proc/meminfo | head -n1\""
   ]
  },
  {
   "cell_type": "code",
   "execution_count": 3,
   "metadata": {},
   "outputs": [
    {
     "data": {
      "text/plain": [
       "0i\n"
      ]
     },
     "execution_count": 3,
     "metadata": {},
     "output_type": "execute_result"
    }
   ],
   "source": [
    "// number of slaves\n",
    "\\s"
   ]
  },
  {
   "cell_type": "markdown",
   "metadata": {},
   "source": [
    "## Basic functions"
   ]
  },
  {
   "cell_type": "code",
   "execution_count": 4,
   "metadata": {},
   "outputs": [],
   "source": [
    "createTable: {[rowCount]\n",
    "    .Q.gc[];\n",
    "    :`bucket xasc ([] bucket: rowCount?`2; qty: rowCount?100; risk: rowCount?10; weight: rowCount?2.)\n",
    "  }"
   ]
  },
  {
   "cell_type": "code",
   "execution_count": 5,
   "metadata": {},
   "outputs": [],
   "source": [
    "executeQuery: {[t]\n",
    "    select NR: count 1b, TOTAL_QTY: sum qty, AVG_QTY: avg qty, \n",
    "        TOTAL_RISK: sum risk, AVG_QTY: avg risk, \n",
    "        W_AVG_QTY: weight wavg qty, W_AVG_RISK: weight wavg risk by bucket from t\n",
    "    }"
   ]
  },
  {
   "cell_type": "markdown",
   "metadata": {},
   "source": [
    "## Row Number 10k"
   ]
  },
  {
   "cell_type": "code",
   "execution_count": 6,
   "metadata": {},
   "outputs": [
    {
     "data": {
      "text/plain": [
       "59\n"
      ]
     },
     "execution_count": 6,
     "metadata": {},
     "output_type": "execute_result"
    }
   ],
   "source": [
    "t: createTable[10 * 1000]\n",
    "\\t:100 executeQuery[t]"
   ]
  },
  {
   "cell_type": "markdown",
   "metadata": {},
   "source": [
    "## Row Number 100k"
   ]
  },
  {
   "cell_type": "code",
   "execution_count": 7,
   "metadata": {},
   "outputs": [
    {
     "data": {
      "text/plain": [
       "255\n"
      ]
     },
     "execution_count": 7,
     "metadata": {},
     "output_type": "execute_result"
    }
   ],
   "source": [
    "t: createTable[100 * 1000]\n",
    "\\t:100 executeQuery[t]"
   ]
  },
  {
   "cell_type": "markdown",
   "metadata": {},
   "source": [
    "## Row Number 1M"
   ]
  },
  {
   "cell_type": "code",
   "execution_count": 8,
   "metadata": {},
   "outputs": [
    {
     "data": {
      "text/plain": [
       "3295\n"
      ]
     },
     "execution_count": 8,
     "metadata": {},
     "output_type": "execute_result"
    }
   ],
   "source": [
    "t: createTable[1000 * 1000]\n",
    "\\t:100 executeQuery[t]"
   ]
  },
  {
   "cell_type": "markdown",
   "metadata": {},
   "source": [
    "## Row Number 10M"
   ]
  },
  {
   "cell_type": "code",
   "execution_count": 9,
   "metadata": {},
   "outputs": [
    {
     "data": {
      "text/plain": [
       "35670\n"
      ]
     },
     "execution_count": 9,
     "metadata": {},
     "output_type": "execute_result"
    }
   ],
   "source": [
    "t: createTable[10 * 1000 * 1000]\n",
    "\\t:100 executeQuery[t]"
   ]
  },
  {
   "cell_type": "markdown",
   "metadata": {},
   "source": [
    "## Row Number 100M\n",
    "We execute the tests ten times only!"
   ]
  },
  {
   "cell_type": "code",
   "execution_count": 10,
   "metadata": {},
   "outputs": [],
   "source": [
    "t: createTable[100 * 1000 * 1000]"
   ]
  },
  {
   "cell_type": "code",
   "execution_count": 11,
   "metadata": {
    "scrolled": true
   },
   "outputs": [
    {
     "data": {
      "text/plain": [
       "32138\n"
      ]
     },
     "execution_count": 11,
     "metadata": {},
     "output_type": "execute_result"
    }
   ],
   "source": [
    "\\t:10 executeQuery[t]"
   ]
  },
  {
   "cell_type": "markdown",
   "metadata": {},
   "source": [
    "## Row Number 1B\n",
    "We execute the tests ten times only!"
   ]
  },
  {
   "cell_type": "code",
   "execution_count": null,
   "metadata": {},
   "outputs": [
    {
     "name": "stderr",
     "output_type": "stream",
     "text": [
      "'2019.12.05T10:58:54.742 wsfull\n",
      "m 0 8589938688\n"
     ]
    }
   ],
   "source": [
    "t: createTable[1000 * 1000 * 1000]"
   ]
  },
  {
   "cell_type": "code",
   "execution_count": null,
   "metadata": {
    "scrolled": true
   },
   "outputs": [],
   "source": [
    "\\t:10 executeQuery[t]"
   ]
  }
 ],
 "metadata": {
  "kernelspec": {
   "display_name": "Q (kdb+)",
   "language": "q",
   "name": "qpk"
  },
  "language_info": {
   "file_extension": ".q",
   "mimetype": "text/x-q",
   "name": "q",
   "version": "3.6.0"
  }
 },
 "nbformat": 4,
 "nbformat_minor": 2
}
