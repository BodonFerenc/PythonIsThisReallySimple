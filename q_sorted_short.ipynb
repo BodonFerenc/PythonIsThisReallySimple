{
 "cells": [
  {
   "cell_type": "code",
   "execution_count": 1,
   "metadata": {},
   "outputs": [],
   "source": [
    "createTable: {[rowCount]\n",
    "    .Q.gc[];\n",
    "    :`bucket xasc ([] bucket: rowCount?`2; qty: rowCount?100h; risk: rowCount?10h; weight: rowCount?2.)\n",
    "  }"
   ]
  },
  {
   "cell_type": "markdown",
   "metadata": {},
   "source": [
    "## 10 000"
   ]
  },
  {
   "cell_type": "code",
   "execution_count": 2,
   "metadata": {},
   "outputs": [
    {
     "data": {
      "text/plain": [
       "57\n"
      ]
     },
     "execution_count": 2,
     "metadata": {},
     "output_type": "execute_result"
    }
   ],
   "source": [
    "t: createTable[10 * 1000]\n",
    "\\t:100 select NR: count 1b, TOTAL_QTY: sum qty, AVG_QTY: avg qty, TOTAL_RISK: sum risk, AVG_QTY: avg risk, W_AVG_QTY: weight wavg qty, W_AVG_RISK: weight wavg risk by bucket from t\n"
   ]
  },
  {
   "cell_type": "markdown",
   "metadata": {},
   "source": [
    "## 100 000"
   ]
  },
  {
   "cell_type": "code",
   "execution_count": 3,
   "metadata": {},
   "outputs": [
    {
     "data": {
      "text/plain": [
       "217\n"
      ]
     },
     "execution_count": 3,
     "metadata": {},
     "output_type": "execute_result"
    }
   ],
   "source": [
    "t: createTable[100 * 1000]\n",
    "\\t:100 select NR: count 1b, TOTAL_QTY: sum qty, AVG_QTY: avg qty, TOTAL_RISK: sum risk, AVG_QTY: avg risk, W_AVG_QTY: weight wavg qty, W_AVG_RISK: weight wavg risk by bucket from t\n"
   ]
  },
  {
   "cell_type": "markdown",
   "metadata": {},
   "source": [
    "## 1 000 000"
   ]
  },
  {
   "cell_type": "code",
   "execution_count": 4,
   "metadata": {},
   "outputs": [
    {
     "data": {
      "text/plain": [
       "2226\n"
      ]
     },
     "execution_count": 4,
     "metadata": {},
     "output_type": "execute_result"
    }
   ],
   "source": [
    "t: createTable[1000 * 1000]\n",
    "\\t:100 select NR: count 1b, TOTAL_QTY: sum qty, AVG_QTY: avg qty, TOTAL_RISK: sum risk, AVG_QTY: avg risk, W_AVG_QTY: weight wavg qty, W_AVG_RISK: weight wavg risk by bucket from t\n"
   ]
  },
  {
   "cell_type": "markdown",
   "metadata": {},
   "source": [
    "## 10 000 000"
   ]
  },
  {
   "cell_type": "code",
   "execution_count": 5,
   "metadata": {},
   "outputs": [
    {
     "data": {
      "text/plain": [
       "25069\n"
      ]
     },
     "execution_count": 5,
     "metadata": {},
     "output_type": "execute_result"
    }
   ],
   "source": [
    "t: createTable[10 * 1000 * 1000]\n",
    "\\t:100 select NR: count 1b, TOTAL_QTY: sum qty, AVG_QTY: avg qty, TOTAL_RISK: sum risk, AVG_QTY: avg risk, W_AVG_QTY: weight wavg qty, W_AVG_RISK: weight wavg risk by bucket from t\n"
   ]
  },
  {
   "cell_type": "markdown",
   "metadata": {},
   "source": [
    "## 100 000 000\n",
    "We execute the tests ten times only!"
   ]
  },
  {
   "cell_type": "code",
   "execution_count": 6,
   "metadata": {
    "scrolled": true
   },
   "outputs": [],
   "source": [
    "t: createTable[100 * 1000 * 1000]"
   ]
  },
  {
   "cell_type": "code",
   "execution_count": 7,
   "metadata": {},
   "outputs": [
    {
     "data": {
      "text/plain": [
       "27229\n"
      ]
     },
     "execution_count": 7,
     "metadata": {},
     "output_type": "execute_result"
    }
   ],
   "source": [
    "\\t:10 select NR: count 1b, TOTAL_QTY: sum qty, AVG_QTY: avg qty, TOTAL_RISK: sum risk, AVG_QTY: avg risk, W_AVG_QTY: weight wavg qty, W_AVG_RISK: weight wavg risk by bucket from t"
   ]
  },
  {
   "cell_type": "markdown",
   "metadata": {},
   "source": [
    "## 1 000 000 000\n",
    "We execute the tests ten times only!"
   ]
  },
  {
   "cell_type": "code",
   "execution_count": 8,
   "metadata": {},
   "outputs": [],
   "source": [
    "t: createTable[1000 * 1000 * 1000]"
   ]
  },
  {
   "cell_type": "code",
   "execution_count": 9,
   "metadata": {},
   "outputs": [
    {
     "data": {
      "text/plain": [
       "317525\n"
      ]
     },
     "execution_count": 9,
     "metadata": {},
     "output_type": "execute_result"
    }
   ],
   "source": [
    "\\t:10 select NR: count 1b, TOTAL_QTY: sum qty, AVG_QTY: avg qty, TOTAL_RISK: sum risk, AVG_QTY: avg risk, W_AVG_QTY: weight wavg qty, W_AVG_RISK: weight wavg risk by bucket from t"
   ]
  }
 ],
 "metadata": {
  "kernelspec": {
   "display_name": "Q (kdb+)",
   "language": "q",
   "name": "qpk"
  },
  "language_info": {
   "file_extension": ".q",
   "mimetype": "text/x-q",
   "name": "q",
   "version": "3.6.0"
  }
 },
 "nbformat": 4,
 "nbformat_minor": 2
}
