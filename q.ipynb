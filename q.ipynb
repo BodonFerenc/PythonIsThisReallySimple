{
 "cells": [
  {
   "cell_type": "code",
   "execution_count": 1,
   "metadata": {},
   "outputs": [],
   "source": [
    "createTable: {[rowCount; op]\n",
    "    .Q.gc[];\n",
    "    :([] bucket: op rowCount?`2; qty: rowCount?100; risk: rowCount?10; weight: rowCount?2.)\n",
    "  }"
   ]
  },
  {
   "cell_type": "markdown",
   "metadata": {},
   "source": [
    "## 10 000"
   ]
  },
  {
   "cell_type": "code",
   "execution_count": 2,
   "metadata": {},
   "outputs": [
    {
     "data": {
      "text/plain": [
       "138\n"
      ]
     },
     "execution_count": 2,
     "metadata": {},
     "output_type": "execute_result"
    }
   ],
   "source": [
    "t: createTable[10 * 1000; string]\n",
    "\\t:100 select NR: count i, TOTAL_QTY: sum qty, AVG_QTY: avg qty, TOTAL_RISK: sum risk, AVG_QTY: avg risk, W_AVG_QTY: weight wavg qty, W_AVG_RISK: weight wavg risk by bucket from t\n"
   ]
  },
  {
   "cell_type": "code",
   "execution_count": 3,
   "metadata": {},
   "outputs": [
    {
     "data": {
      "text/plain": [
       "63\n"
      ]
     },
     "execution_count": 3,
     "metadata": {},
     "output_type": "execute_result"
    }
   ],
   "source": [
    "t: createTable[10 * 1000; ::]\n",
    "\\t:100 select NR: count i, TOTAL_QTY: sum qty, AVG_QTY: avg qty, TOTAL_RISK: sum risk, AVG_QTY: avg risk, W_AVG_QTY: weight wavg qty, W_AVG_RISK: weight wavg risk by bucket from t\n"
   ]
  },
  {
   "cell_type": "markdown",
   "metadata": {},
   "source": [
    "## 100 000"
   ]
  },
  {
   "cell_type": "code",
   "execution_count": 4,
   "metadata": {},
   "outputs": [
    {
     "data": {
      "text/plain": [
       "1150\n"
      ]
     },
     "execution_count": 4,
     "metadata": {},
     "output_type": "execute_result"
    }
   ],
   "source": [
    "t: createTable[100 * 1000; string]\n",
    "\\t:100 select NR: count i, TOTAL_QTY: sum qty, AVG_QTY: avg qty, TOTAL_RISK: sum risk, AVG_QTY: avg risk, W_AVG_QTY: weight wavg qty, W_AVG_RISK: weight wavg risk by bucket from t\n"
   ]
  },
  {
   "cell_type": "code",
   "execution_count": 5,
   "metadata": {},
   "outputs": [
    {
     "data": {
      "text/plain": [
       "364\n"
      ]
     },
     "execution_count": 5,
     "metadata": {},
     "output_type": "execute_result"
    }
   ],
   "source": [
    "t: createTable[100 * 1000; ::]\n",
    "\\t:100 select NR: count i, TOTAL_QTY: sum qty, AVG_QTY: avg qty, TOTAL_RISK: sum risk, AVG_QTY: avg risk, W_AVG_QTY: weight wavg qty, W_AVG_RISK: weight wavg risk by bucket from t\n"
   ]
  },
  {
   "cell_type": "markdown",
   "metadata": {},
   "source": [
    "## 1 000 000"
   ]
  },
  {
   "cell_type": "code",
   "execution_count": 6,
   "metadata": {},
   "outputs": [
    {
     "data": {
      "text/plain": [
       "17224\n"
      ]
     },
     "execution_count": 6,
     "metadata": {},
     "output_type": "execute_result"
    }
   ],
   "source": [
    "t: createTable[1000 * 1000; string]\n",
    "\\t:100 select NR: count i, TOTAL_QTY: sum qty, AVG_QTY: avg qty, TOTAL_RISK: sum risk, AVG_QTY: avg risk, W_AVG_QTY: weight wavg qty, W_AVG_RISK: weight wavg risk by bucket from t\n"
   ]
  },
  {
   "cell_type": "code",
   "execution_count": 7,
   "metadata": {},
   "outputs": [
    {
     "data": {
      "text/plain": [
       "10288\n"
      ]
     },
     "execution_count": 7,
     "metadata": {},
     "output_type": "execute_result"
    }
   ],
   "source": [
    "t: createTable[1000 * 1000; ::]\n",
    "\\t:100 select NR: count i, TOTAL_QTY: sum qty, AVG_QTY: avg qty, TOTAL_RISK: sum risk, AVG_QTY: avg risk, W_AVG_QTY: weight wavg qty, W_AVG_RISK: weight wavg risk by bucket from t\n"
   ]
  },
  {
   "cell_type": "markdown",
   "metadata": {},
   "source": [
    "## 10 000 000"
   ]
  },
  {
   "cell_type": "code",
   "execution_count": 8,
   "metadata": {},
   "outputs": [
    {
     "data": {
      "text/plain": [
       "204455\n"
      ]
     },
     "execution_count": 8,
     "metadata": {},
     "output_type": "execute_result"
    }
   ],
   "source": [
    "t: createTable[10 * 1000 * 1000; string]\n",
    "\\t:100 select NR: count i, TOTAL_QTY: sum qty, AVG_QTY: avg qty, TOTAL_RISK: sum risk, AVG_QTY: avg risk, W_AVG_QTY: weight wavg qty, W_AVG_RISK: weight wavg risk by bucket from t\n"
   ]
  },
  {
   "cell_type": "code",
   "execution_count": 9,
   "metadata": {},
   "outputs": [
    {
     "data": {
      "text/plain": [
       "133228\n"
      ]
     },
     "execution_count": 9,
     "metadata": {},
     "output_type": "execute_result"
    }
   ],
   "source": [
    "t: createTable[10 * 1000 * 1000; ::]\n",
    "\\t:100 select NR: count i, TOTAL_QTY: sum qty, AVG_QTY: avg qty, TOTAL_RISK: sum risk, AVG_QTY: avg risk, W_AVG_QTY: weight wavg qty, W_AVG_RISK: weight wavg risk by bucket from t\n"
   ]
  },
  {
   "cell_type": "markdown",
   "metadata": {},
   "source": [
    "## 100 000 000"
   ]
  },
  {
   "cell_type": "code",
   "execution_count": 10,
   "metadata": {},
   "outputs": [
    {
     "data": {
      "text/plain": [
       "215741\n"
      ]
     },
     "execution_count": 10,
     "metadata": {},
     "output_type": "execute_result"
    }
   ],
   "source": [
    "t: createTable[100 * 1000 * 1000; string]\n",
    "\\t:10 select NR: count i, TOTAL_QTY: sum qty, AVG_QTY: avg qty, TOTAL_RISK: sum risk, AVG_QTY: avg risk, W_AVG_QTY: weight wavg qty, W_AVG_RISK: weight wavg risk by bucket from t\n"
   ]
  },
  {
   "cell_type": "code",
   "execution_count": 11,
   "metadata": {},
   "outputs": [
    {
     "data": {
      "text/plain": [
       "142970\n"
      ]
     },
     "execution_count": 11,
     "metadata": {},
     "output_type": "execute_result"
    }
   ],
   "source": [
    "t: createTable[100 * 1000 * 1000; ::]\n",
    "\\t:10 select NR: count i, TOTAL_QTY: sum qty, AVG_QTY: avg qty, TOTAL_RISK: sum risk, AVG_QTY: avg risk, W_AVG_QTY: weight wavg qty, W_AVG_RISK: weight wavg risk by bucket from t\n"
   ]
  },
  {
   "cell_type": "code",
   "execution_count": null,
   "metadata": {},
   "outputs": [
    {
     "name": "stderr",
     "output_type": "stream",
     "text": [
      "'2019.11.24T19:27:42.796 wsfull\n",
      "m 0 8589938688\n"
     ]
    }
   ],
   "source": [
    "t: createTable[1000 * 1000 * 1000; ::]\n",
    "\\t:10 select NR: count i, TOTAL_QTY: sum qty, AVG_QTY: avg qty, TOTAL_RISK: sum risk, AVG_QTY: avg risk, W_AVG_QTY: weight wavg qty, W_AVG_RISK: weight wavg risk by bucket from t\n"
   ]
  }
 ],
 "metadata": {
  "kernelspec": {
   "display_name": "Q (kdb+)",
   "language": "q",
   "name": "qpk"
  },
  "language_info": {
   "file_extension": ".q",
   "mimetype": "text/x-q",
   "name": "q",
   "version": "3.6.0"
  }
 },
 "nbformat": 4,
 "nbformat_minor": 2
}
