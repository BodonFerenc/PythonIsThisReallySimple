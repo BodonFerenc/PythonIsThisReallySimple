{
 "cells": [
  {
   "cell_type": "markdown",
   "metadata": {},
   "source": [
    "## Hardware Details\n",
    "[GCP](https://cloud.google.com/) VM: [n1-highmem-16](https://cloud.google.com/compute/docs/machine-types#n1_machine_types) (16 vCPUs, 104 GB memory)"
   ]
  },
  {
   "cell_type": "code",
   "execution_count": 1,
   "metadata": {
    "scrolled": true
   },
   "outputs": [
    {
     "name": "stdout",
     "output_type": "stream",
     "text": [
      "Architecture:          x86_64\n",
      "CPU op-mode(s):        32-bit, 64-bit\n",
      "Byte Order:            Little Endian\n",
      "CPU(s):                16\n",
      "On-line CPU(s) list:   0-15\n",
      "Thread(s) per core:    2\n",
      "Core(s) per socket:    8\n",
      "Socket(s):             1\n",
      "NUMA node(s):          1\n",
      "Vendor ID:             GenuineIntel\n",
      "CPU family:            6\n",
      "Model:                 63\n",
      "Model name:            Intel(R) Xeon(R) CPU @ 2.30GHz\n",
      "Stepping:              0\n",
      "CPU MHz:               2300.000\n",
      "BogoMIPS:              4600.00\n",
      "Hypervisor vendor:     KVM\n",
      "Virtualization type:   full\n",
      "L1d cache:             32K\n",
      "L1i cache:             32K\n",
      "L2 cache:              256K\n",
      "L3 cache:              46080K\n",
      "NUMA node0 CPU(s):     0-15\n",
      "Flags:                 fpu vme de pse tsc msr pae mce cx8 apic sep mtrr pge mca cmov pat pse36 clflush mmx fxsr sse sse2 ss ht syscall nx pdpe1gb rdtscp lm constant_tsc rep_good nopl xtopology nonstop_tsc eagerfpu pni pclmulqdq ssse3 fma cx16 pcid sse4_1 sse4_2 x2apic movbe popcnt aes xsave avx f16c rdrand hypervisor lahf_lm abm invpcid_single ssbd ibrs ibpb stibp fsgsbase tsc_adjust bmi1 avx2 smep bmi2 erms invpcid xsaveopt arat md_clear spec_ctrl intel_stibp arch_capabilities\n"
     ]
    }
   ],
   "source": [
    "%%bash\n",
    "lscpu"
   ]
  },
  {
   "cell_type": "code",
   "execution_count": 2,
   "metadata": {
    "scrolled": true
   },
   "outputs": [
    {
     "name": "stdout",
     "output_type": "stream",
     "text": [
      "MemTotal:       107091244 kB\n"
     ]
    }
   ],
   "source": [
    "%%bash\n",
    "cat /proc/meminfo | head -n1"
   ]
  },
  {
   "cell_type": "markdown",
   "metadata": {},
   "source": [
    "## Basic functions"
   ]
  },
  {
   "cell_type": "code",
   "execution_count": 19,
   "metadata": {},
   "outputs": [],
   "source": [
    "import os\n",
    "\n",
    "os.environ[\"MODIN_ENGINE\"] = \"ray\"  # Modin will use Ray\n",
    "import modin.pandas as pd\n",
    "import numpy as np\n",
    "import random\n",
    "import string\n",
    "import gc\n",
    "import functools"
   ]
  },
  {
   "cell_type": "code",
   "execution_count": 4,
   "metadata": {},
   "outputs": [],
   "source": [
    "def createTable(rowCount):\n",
    "    gc.collect()\n",
    "    return pd.DataFrame({'bucket': [''.join(random.choices(string.ascii_lowercase, k=2)) for _ in range(rowCount)],\n",
    "                  'weight': np.random.uniform(0, 2, rowCount),\n",
    "                  'qty': np.random.randint(100, size=rowCount, dtype='int16'),\n",
    "                  'risk': np.random.randint(10, size=rowCount, dtype='int16')})"
   ]
  },
  {
   "cell_type": "code",
   "execution_count": 5,
   "metadata": {},
   "outputs": [],
   "source": [
    "def executeQueryJoin(t):\n",
    "    res = t.groupby('bucket').agg({'bucket': len, 'qty': [sum, np.mean], 'risk': [sum, np.mean]})\n",
    "    res.columns = res.columns.map('_'.join)\n",
    "    return res.rename(columns={'bucket_len':'NR', 'qty_sum':'TOTAL_QTY','qty_mean':'AVG_QTY', \n",
    "                        'risk_sum':'TOTAL_RISK','risk_mean':'AVG_RISK'}).join(\n",
    "        t.groupby('bucket').apply(lambda g: np.average(g.qty, weights=g.weight)).transpose().rename(columns={0: 'W_AVG_QTY'})).join(\n",
    "        t.groupby('bucket').apply(lambda g: np.average(g.risk, weights=g.weight)).transpose().rename(columns={0: 'W_AVG_RISK'}))"
   ]
  },
  {
   "cell_type": "markdown",
   "metadata": {},
   "source": [
    "## Row Number 10k"
   ]
  },
  {
   "cell_type": "code",
   "execution_count": 6,
   "metadata": {},
   "outputs": [
    {
     "name": "stderr",
     "output_type": "stream",
     "text": [
      "UserWarning: Distributing <class 'dict'> object. This may take some time.\n"
     ]
    }
   ],
   "source": [
    "t = createTable(10 * 1000)"
   ]
  },
  {
   "cell_type": "code",
   "execution_count": 7,
   "metadata": {},
   "outputs": [
    {
     "name": "stderr",
     "output_type": "stream",
     "text": [
      "UserWarning: `DataFrame.groupby_on_multiple_columns` defaulting to pandas implementation.\n",
      "To request implementation, send an email to feature_requests@modin.org.\n",
      "UserWarning: Distributing <class 'pandas.core.frame.DataFrame'> object. This may take some time.\n",
      "UserWarning: `DataFrame.groupby_on_multiple_columns` defaulting to pandas implementation.\n"
     ]
    },
    {
     "name": "stdout",
     "output_type": "stream",
     "text": [
      "1.41 s ± 19.3 ms per loop (mean ± std. dev. of 7 runs, 1 loop each)\n"
     ]
    }
   ],
   "source": [
    "%timeit executeQueryJoin(t)"
   ]
  },
  {
   "cell_type": "markdown",
   "metadata": {},
   "source": [
    "## Row Number 100k"
   ]
  },
  {
   "cell_type": "code",
   "execution_count": 8,
   "metadata": {},
   "outputs": [],
   "source": [
    "del t\n",
    "t = createTable(100 * 1000)"
   ]
  },
  {
   "cell_type": "code",
   "execution_count": 9,
   "metadata": {},
   "outputs": [
    {
     "name": "stdout",
     "output_type": "stream",
     "text": [
      "2.39 s ± 32.4 ms per loop (mean ± std. dev. of 7 runs, 1 loop each)\n"
     ]
    }
   ],
   "source": [
    "%timeit executeQueryJoin(t)"
   ]
  },
  {
   "cell_type": "markdown",
   "metadata": {},
   "source": [
    "## Row Number 1M"
   ]
  },
  {
   "cell_type": "code",
   "execution_count": 10,
   "metadata": {},
   "outputs": [],
   "source": [
    "del t\n",
    "t = createTable(1000 * 1000)"
   ]
  },
  {
   "cell_type": "code",
   "execution_count": 11,
   "metadata": {},
   "outputs": [
    {
     "name": "stdout",
     "output_type": "stream",
     "text": [
      "12.7 s ± 46.2 ms per loop (mean ± std. dev. of 7 runs, 1 loop each)\n"
     ]
    }
   ],
   "source": [
    "%timeit executeQueryJoin(t)"
   ]
  },
  {
   "cell_type": "markdown",
   "metadata": {},
   "source": [
    "## Row Number 10M"
   ]
  },
  {
   "cell_type": "code",
   "execution_count": 12,
   "metadata": {},
   "outputs": [],
   "source": [
    "del t\n",
    "t = createTable(10 * 1000 * 1000)"
   ]
  },
  {
   "cell_type": "code",
   "execution_count": 13,
   "metadata": {},
   "outputs": [
    {
     "name": "stdout",
     "output_type": "stream",
     "text": [
      "2min 10s ± 2.11 s per loop (mean ± std. dev. of 7 runs, 1 loop each)\n"
     ]
    }
   ],
   "source": [
    "%timeit executeQueryJoin(t)"
   ]
  },
  {
   "cell_type": "markdown",
   "metadata": {},
   "source": [
    "## Row Number 100M"
   ]
  },
  {
   "cell_type": "code",
   "execution_count": 14,
   "metadata": {},
   "outputs": [],
   "source": [
    "del t\n",
    "t = createTable(100 * 1000 * 1000)"
   ]
  },
  {
   "cell_type": "code",
   "execution_count": 15,
   "metadata": {},
   "outputs": [
    {
     "name": "stdout",
     "output_type": "stream",
     "text": [
      "\u001b[2m\u001b[36m(pid=31871)\u001b[0m Fatal Python error: Bus error\n",
      "\u001b[2m\u001b[36m(pid=31871)\u001b[0m \n",
      "\u001b[2m\u001b[36m(pid=31863)\u001b[0m Fatal Python error: Bus error\n",
      "\u001b[2m\u001b[36m(pid=31863)\u001b[0m \n",
      "\u001b[2m\u001b[36m(pid=31865)\u001b[0m Fatal Python error: Bus error\n",
      "\u001b[2m\u001b[36m(pid=31865)\u001b[0m \n",
      "\u001b[2m\u001b[36m(pid=31870)\u001b[0m Fatal Python error: Bus error\n",
      "\u001b[2m\u001b[36m(pid=31870)\u001b[0m \n",
      "\u001b[2m\u001b[36m(pid=31864)\u001b[0m Fatal Python error: Bus error\n",
      "\u001b[2m\u001b[36m(pid=31864)\u001b[0m \n",
      "\u001b[2m\u001b[36m(pid=31869)\u001b[0m Fatal Python error: Bus error\n",
      "\u001b[2m\u001b[36m(pid=31869)\u001b[0m \n",
      "\u001b[2m\u001b[36m(pid=31875)\u001b[0m Traceback (most recent call last):\n",
      "\u001b[2m\u001b[36m(pid=31875)\u001b[0m   File \"/usr/local/lib/python3.6/site-packages/ray/workers/default_worker.py\", line 98, in <module>\n",
      "\u001b[2m\u001b[36m(pid=31875)\u001b[0m     ray.worker.global_worker.main_loop()\n",
      "\u001b[2m\u001b[36m(pid=31875)\u001b[0m   File \"/usr/local/lib/python3.6/site-packages/ray/worker.py\", line 1087, in main_loop\n",
      "\u001b[2m\u001b[36m(pid=31875)\u001b[0m     task = self._get_next_task_from_raylet()\n",
      "\u001b[2m\u001b[36m(pid=31875)\u001b[0m   File \"/usr/local/lib/python3.6/site-packages/ray/worker.py\", line 1070, in _get_next_task_from_raylet\n",
      "\u001b[2m\u001b[36m(pid=31875)\u001b[0m     task = self.raylet_client.get_task()\n",
      "\u001b[2m\u001b[36m(pid=31875)\u001b[0m   File \"python/ray/_raylet.pyx\", line 247, in ray._raylet.RayletClient.get_task\n",
      "\u001b[2m\u001b[36m(pid=31875)\u001b[0m   File \"python/ray/_raylet.pyx\", line 61, in ray._raylet.check_status\n",
      "\u001b[2m\u001b[36m(pid=31875)\u001b[0m ray.exceptions.RayletError: The Raylet died with this message: [RayletClient] Raylet connection closed.\n",
      "\u001b[2m\u001b[36m(pid=31875)\u001b[0m \n",
      "\u001b[2m\u001b[36m(pid=31875)\u001b[0m During handling of the above exception, another exception occurred:\n",
      "\u001b[2m\u001b[36m(pid=31875)\u001b[0m \n",
      "\u001b[2m\u001b[36m(pid=31875)\u001b[0m Traceback (most recent call last):\n",
      "\u001b[2m\u001b[36m(pid=31875)\u001b[0m   File \"/usr/local/lib/python3.6/site-packages/ray/workers/default_worker.py\", line 105, in <module>\n",
      "\u001b[2m\u001b[36m(pid=31875)\u001b[0m     job_id=None)\n",
      "\u001b[2m\u001b[36m(pid=31875)\u001b[0m   File \"/usr/local/lib/python3.6/site-packages/ray/utils.py\", line 68, in push_error_to_driver\n",
      "\u001b[2m\u001b[36m(pid=31872)\u001b[0m Traceback (most recent call last):\n",
      "\u001b[2m\u001b[36m(pid=31872)\u001b[0m   File \"/usr/local/lib/python3.6/site-packages/ray/workers/default_worker.py\", line 98, in <module>\n",
      "\u001b[2m\u001b[36m(pid=31872)\u001b[0m     ray.worker.global_worker.main_loop()\n",
      "\u001b[2m\u001b[36m(pid=31872)\u001b[0m   File \"/usr/local/lib/python3.6/site-packages/ray/worker.py\", line 1087, in main_loop\n",
      "\u001b[2m\u001b[36m(pid=31872)\u001b[0m     task = self._get_next_task_from_raylet()\n",
      "\u001b[2m\u001b[36m(pid=31872)\u001b[0m   File \"/usr/local/lib/python3.6/site-packages/ray/worker.py\", line 1070, in _get_next_task_from_raylet\n",
      "\u001b[2m\u001b[36m(pid=31872)\u001b[0m     task = self.raylet_client.get_task()\n",
      "\u001b[2m\u001b[36m(pid=31872)\u001b[0m   File \"python/ray/_raylet.pyx\", line 247, in ray._raylet.RayletClient.get_task\n",
      "\u001b[2m\u001b[36m(pid=31872)\u001b[0m   File \"python/ray/_raylet.pyx\", line 61, in ray._raylet.check_status\n",
      "\u001b[2m\u001b[36m(pid=31872)\u001b[0m ray.exceptions.RayletError: The Raylet died with this message: [RayletClient] Raylet connection closed.\n",
      "\u001b[2m\u001b[36m(pid=31872)\u001b[0m \n",
      "\u001b[2m\u001b[36m(pid=31872)\u001b[0m During handling of the above exception, another exception occurred:\n",
      "\u001b[2m\u001b[36m(pid=31872)\u001b[0m \n",
      "\u001b[2m\u001b[36m(pid=31872)\u001b[0m Traceback (most recent call last):\n",
      "\u001b[2m\u001b[36m(pid=31872)\u001b[0m   File \"/usr/local/lib/python3.6/site-packages/ray/workers/default_worker.py\", line 105, in <module>\n",
      "\u001b[2m\u001b[36m(pid=31872)\u001b[0m     job_id=None)\n",
      "\u001b[2m\u001b[36m(pid=31872)\u001b[0m   File \"/usr/local/lib/python3.6/site-packages/ray/utils.py\", line 68, in push_error_to_driver\n",
      "\u001b[2m\u001b[36m(pid=31862)\u001b[0m Traceback (most recent call last):\n",
      "\u001b[2m\u001b[36m(pid=31862)\u001b[0m   File \"/usr/local/lib/python3.6/site-packages/ray/workers/default_worker.py\", line 98, in <module>\n",
      "\u001b[2m\u001b[36m(pid=31862)\u001b[0m     ray.worker.global_worker.main_loop()\n",
      "\u001b[2m\u001b[36m(pid=31862)\u001b[0m   File \"/usr/local/lib/python3.6/site-packages/ray/worker.py\", line 1087, in main_loop\n",
      "\u001b[2m\u001b[36m(pid=31862)\u001b[0m     task = self._get_next_task_from_raylet()\n",
      "\u001b[2m\u001b[36m(pid=31862)\u001b[0m   File \"/usr/local/lib/python3.6/site-packages/ray/worker.py\", line 1070, in _get_next_task_from_raylet\n",
      "\u001b[2m\u001b[36m(pid=31862)\u001b[0m     task = self.raylet_client.get_task()\n",
      "\u001b[2m\u001b[36m(pid=31862)\u001b[0m   File \"python/ray/_raylet.pyx\", line 247, in ray._raylet.RayletClient.get_task\n",
      "\u001b[2m\u001b[36m(pid=31862)\u001b[0m   File \"python/ray/_raylet.pyx\", line 61, in ray._raylet.check_status\n",
      "\u001b[2m\u001b[36m(pid=31862)\u001b[0m ray.exceptions.RayletError: The Raylet died with this message: [RayletClient] Raylet connection closed.\n",
      "\u001b[2m\u001b[36m(pid=31862)\u001b[0m \n",
      "\u001b[2m\u001b[36m(pid=31862)\u001b[0m During handling of the above exception, another exception occurred:\n",
      "\u001b[2m\u001b[36m(pid=31862)\u001b[0m \n",
      "\u001b[2m\u001b[36m(pid=31862)\u001b[0m Traceback (most recent call last):\n",
      "\u001b[2m\u001b[36m(pid=31862)\u001b[0m   File \"/usr/local/lib/python3.6/site-packages/ray/workers/default_worker.py\", line 105, in <module>\n",
      "\u001b[2m\u001b[36m(pid=31862)\u001b[0m     job_id=None)\n",
      "\u001b[2m\u001b[36m(pid=31862)\u001b[0m   File \"/usr/local/lib/python3.6/site-packages/ray/utils.py\", line 68, in push_error_to_driver\n",
      "\u001b[2m\u001b[36m(pid=31860)\u001b[0m Traceback (most recent call last):\n",
      "\u001b[2m\u001b[36m(pid=31860)\u001b[0m   File \"/usr/local/lib/python3.6/site-packages/ray/workers/default_worker.py\", line 98, in <module>\n",
      "\u001b[2m\u001b[36m(pid=31860)\u001b[0m     ray.worker.global_worker.main_loop()\n",
      "\u001b[2m\u001b[36m(pid=31860)\u001b[0m   File \"/usr/local/lib/python3.6/site-packages/ray/worker.py\", line 1087, in main_loop\n",
      "\u001b[2m\u001b[36m(pid=31860)\u001b[0m     task = self._get_next_task_from_raylet()\n",
      "\u001b[2m\u001b[36m(pid=31860)\u001b[0m   File \"/usr/local/lib/python3.6/site-packages/ray/worker.py\", line 1070, in _get_next_task_from_raylet\n",
      "\u001b[2m\u001b[36m(pid=31860)\u001b[0m     task = self.raylet_client.get_task()\n",
      "\u001b[2m\u001b[36m(pid=31860)\u001b[0m   File \"python/ray/_raylet.pyx\", line 247, in ray._raylet.RayletClient.get_task\n",
      "\u001b[2m\u001b[36m(pid=31860)\u001b[0m   File \"python/ray/_raylet.pyx\", line 61, in ray._raylet.check_status\n",
      "\u001b[2m\u001b[36m(pid=31860)\u001b[0m ray.exceptions.RayletError: The Raylet died with this message: [RayletClient] Raylet connection closed.\n",
      "\u001b[2m\u001b[36m(pid=31860)\u001b[0m \n",
      "\u001b[2m\u001b[36m(pid=31860)\u001b[0m During handling of the above exception, another exception occurred:\n",
      "\u001b[2m\u001b[36m(pid=31860)\u001b[0m \n",
      "\u001b[2m\u001b[36m(pid=31860)\u001b[0m Traceback (most recent call last):\n",
      "\u001b[2m\u001b[36m(pid=31860)\u001b[0m   File \"/usr/local/lib/python3.6/site-packages/ray/workers/default_worker.py\", line 105, in <module>\n",
      "\u001b[2m\u001b[36m(pid=31860)\u001b[0m     job_id=None)\n",
      "\u001b[2m\u001b[36m(pid=31860)\u001b[0m   File \"/usr/local/lib/python3.6/site-packages/ray/utils.py\", line 68, in push_error_to_driver\n",
      "\u001b[2m\u001b[36m(pid=31861)\u001b[0m Traceback (most recent call last):\n",
      "\u001b[2m\u001b[36m(pid=31861)\u001b[0m   File \"/usr/local/lib/python3.6/site-packages/ray/workers/default_worker.py\", line 98, in <module>\n",
      "\u001b[2m\u001b[36m(pid=31861)\u001b[0m     ray.worker.global_worker.main_loop()\n",
      "\u001b[2m\u001b[36m(pid=31861)\u001b[0m   File \"/usr/local/lib/python3.6/site-packages/ray/worker.py\", line 1087, in main_loop\n",
      "\u001b[2m\u001b[36m(pid=31861)\u001b[0m     task = self._get_next_task_from_raylet()\n",
      "\u001b[2m\u001b[36m(pid=31861)\u001b[0m   File \"/usr/local/lib/python3.6/site-packages/ray/worker.py\", line 1070, in _get_next_task_from_raylet\n",
      "\u001b[2m\u001b[36m(pid=31861)\u001b[0m     task = self.raylet_client.get_task()\n",
      "\u001b[2m\u001b[36m(pid=31861)\u001b[0m   File \"python/ray/_raylet.pyx\", line 247, in ray._raylet.RayletClient.get_task\n",
      "\u001b[2m\u001b[36m(pid=31861)\u001b[0m   File \"python/ray/_raylet.pyx\", line 61, in ray._raylet.check_status\n",
      "\u001b[2m\u001b[36m(pid=31861)\u001b[0m ray.exceptions.RayletError: The Raylet died with this message: [RayletClient] Raylet connection closed.\n",
      "\u001b[2m\u001b[36m(pid=31861)\u001b[0m \n",
      "\u001b[2m\u001b[36m(pid=31861)\u001b[0m During handling of the above exception, another exception occurred:\n",
      "\u001b[2m\u001b[36m(pid=31861)\u001b[0m \n",
      "\u001b[2m\u001b[36m(pid=31861)\u001b[0m Traceback (most recent call last):\n",
      "\u001b[2m\u001b[36m(pid=31861)\u001b[0m   File \"/usr/local/lib/python3.6/site-packages/ray/workers/default_worker.py\", line 105, in <module>\n",
      "\u001b[2m\u001b[36m(pid=31861)\u001b[0m     job_id=None)\n",
      "\u001b[2m\u001b[36m(pid=31861)\u001b[0m   File \"/usr/local/lib/python3.6/site-packages/ray/utils.py\", line 68, in push_error_to_driver\n",
      "\u001b[2m\u001b[36m(pid=31874)\u001b[0m Traceback (most recent call last):\n",
      "\u001b[2m\u001b[36m(pid=31874)\u001b[0m   File \"/usr/local/lib/python3.6/site-packages/ray/workers/default_worker.py\", line 98, in <module>\n",
      "\u001b[2m\u001b[36m(pid=31874)\u001b[0m     ray.worker.global_worker.main_loop()\n",
      "\u001b[2m\u001b[36m(pid=31874)\u001b[0m   File \"/usr/local/lib/python3.6/site-packages/ray/worker.py\", line 1087, in main_loop\n",
      "\u001b[2m\u001b[36m(pid=31874)\u001b[0m     task = self._get_next_task_from_raylet()\n",
      "\u001b[2m\u001b[36m(pid=31874)\u001b[0m   File \"/usr/local/lib/python3.6/site-packages/ray/worker.py\", line 1070, in _get_next_task_from_raylet\n",
      "\u001b[2m\u001b[36m(pid=31874)\u001b[0m     task = self.raylet_client.get_task()\n",
      "\u001b[2m\u001b[36m(pid=31874)\u001b[0m   File \"python/ray/_raylet.pyx\", line 247, in ray._raylet.RayletClient.get_task\n",
      "\u001b[2m\u001b[36m(pid=31874)\u001b[0m   File \"python/ray/_raylet.pyx\", line 61, in ray._raylet.check_status\n",
      "\u001b[2m\u001b[36m(pid=31874)\u001b[0m ray.exceptions.RayletError: The Raylet died with this message: [RayletClient] Raylet connection closed.\n",
      "\u001b[2m\u001b[36m(pid=31874)\u001b[0m \n",
      "\u001b[2m\u001b[36m(pid=31874)\u001b[0m During handling of the above exception, another exception occurred:\n",
      "\u001b[2m\u001b[36m(pid=31874)\u001b[0m \n",
      "\u001b[2m\u001b[36m(pid=31874)\u001b[0m Traceback (most recent call last):\n",
      "\u001b[2m\u001b[36m(pid=31874)\u001b[0m   File \"/usr/local/lib/python3.6/site-packages/ray/workers/default_worker.py\", line 105, in <module>\n",
      "\u001b[2m\u001b[36m(pid=31874)\u001b[0m     job_id=None)\n",
      "\u001b[2m\u001b[36m(pid=31874)\u001b[0m   File \"/usr/local/lib/python3.6/site-packages/ray/utils.py\", line 68, in push_error_to_driver\n",
      "\u001b[2m\u001b[36m(pid=31873)\u001b[0m Traceback (most recent call last):\n",
      "\u001b[2m\u001b[36m(pid=31873)\u001b[0m   File \"/usr/local/lib/python3.6/site-packages/ray/workers/default_worker.py\", line 98, in <module>\n",
      "\u001b[2m\u001b[36m(pid=31873)\u001b[0m     ray.worker.global_worker.main_loop()\n",
      "\u001b[2m\u001b[36m(pid=31873)\u001b[0m   File \"/usr/local/lib/python3.6/site-packages/ray/worker.py\", line 1087, in main_loop\n",
      "\u001b[2m\u001b[36m(pid=31873)\u001b[0m     task = self._get_next_task_from_raylet()\n",
      "\u001b[2m\u001b[36m(pid=31873)\u001b[0m   File \"/usr/local/lib/python3.6/site-packages/ray/worker.py\", line 1070, in _get_next_task_from_raylet\n",
      "\u001b[2m\u001b[36m(pid=31873)\u001b[0m     task = self.raylet_client.get_task()\n",
      "\u001b[2m\u001b[36m(pid=31873)\u001b[0m   File \"python/ray/_raylet.pyx\", line 247, in ray._raylet.RayletClient.get_task\n",
      "\u001b[2m\u001b[36m(pid=31873)\u001b[0m   File \"python/ray/_raylet.pyx\", line 61, in ray._raylet.check_status\n",
      "\u001b[2m\u001b[36m(pid=31873)\u001b[0m ray.exceptions.RayletError: The Raylet died with this message: [RayletClient] Raylet connection closed.\n",
      "\u001b[2m\u001b[36m(pid=31873)\u001b[0m \n",
      "\u001b[2m\u001b[36m(pid=31873)\u001b[0m During handling of the above exception, another exception occurred:\n",
      "\u001b[2m\u001b[36m(pid=31873)\u001b[0m \n",
      "\u001b[2m\u001b[36m(pid=31873)\u001b[0m Traceback (most recent call last):\n",
      "\u001b[2m\u001b[36m(pid=31873)\u001b[0m   File \"/usr/local/lib/python3.6/site-packages/ray/workers/default_worker.py\", line 105, in <module>\n",
      "\u001b[2m\u001b[36m(pid=31873)\u001b[0m     job_id=None)\n",
      "\u001b[2m\u001b[36m(pid=31873)\u001b[0m   File \"/usr/local/lib/python3.6/site-packages/ray/utils.py\", line 68, in push_error_to_driver\n",
      "\u001b[2m\u001b[36m(pid=31875)\u001b[0m     worker.raylet_client.push_error(job_id, error_type, message, time.time())\n",
      "\u001b[2m\u001b[36m(pid=31875)\u001b[0m   File \"python/ray/_raylet.pyx\", line 300, in ray._raylet.RayletClient.push_error\n",
      "\u001b[2m\u001b[36m(pid=31875)\u001b[0m   File \"python/ray/_raylet.pyx\", line 61, in ray._raylet.check_status\n",
      "\u001b[2m\u001b[36m(pid=31875)\u001b[0m ray.exceptions.RayletError: The Raylet died with this message: [RayletClient] Connection closed unexpectedly.\n",
      "\u001b[2m\u001b[36m(pid=31872)\u001b[0m     worker.raylet_client.push_error(job_id, error_type, message, time.time())\n",
      "\u001b[2m\u001b[36m(pid=31872)\u001b[0m   File \"python/ray/_raylet.pyx\", line 300, in ray._raylet.RayletClient.push_error\n",
      "\u001b[2m\u001b[36m(pid=31872)\u001b[0m   File \"python/ray/_raylet.pyx\", line 61, in ray._raylet.check_status\n",
      "\u001b[2m\u001b[36m(pid=31872)\u001b[0m ray.exceptions.RayletError: The Raylet died with this message: [RayletClient] Connection closed unexpectedly.\n",
      "\u001b[2m\u001b[36m(pid=31862)\u001b[0m     worker.raylet_client.push_error(job_id, error_type, message, time.time())\n",
      "\u001b[2m\u001b[36m(pid=31862)\u001b[0m   File \"python/ray/_raylet.pyx\", line 300, in ray._raylet.RayletClient.push_error\n",
      "\u001b[2m\u001b[36m(pid=31862)\u001b[0m   File \"python/ray/_raylet.pyx\", line 61, in ray._raylet.check_status\n",
      "\u001b[2m\u001b[36m(pid=31862)\u001b[0m ray.exceptions.RayletError: The Raylet died with this message: [RayletClient] Connection closed unexpectedly.\n",
      "\u001b[2m\u001b[36m(pid=31860)\u001b[0m     worker.raylet_client.push_error(job_id, error_type, message, time.time())\n",
      "\u001b[2m\u001b[36m(pid=31860)\u001b[0m   File \"python/ray/_raylet.pyx\", line 300, in ray._raylet.RayletClient.push_error\n",
      "\u001b[2m\u001b[36m(pid=31860)\u001b[0m   File \"python/ray/_raylet.pyx\", line 61, in ray._raylet.check_status\n",
      "\u001b[2m\u001b[36m(pid=31860)\u001b[0m ray.exceptions.RayletError: The Raylet died with this message: [RayletClient] Connection closed unexpectedly.\n",
      "\u001b[2m\u001b[36m(pid=31861)\u001b[0m     worker.raylet_client.push_error(job_id, error_type, message, time.time())\n",
      "\u001b[2m\u001b[36m(pid=31861)\u001b[0m   File \"python/ray/_raylet.pyx\", line 300, in ray._raylet.RayletClient.push_error\n",
      "\u001b[2m\u001b[36m(pid=31861)\u001b[0m   File \"python/ray/_raylet.pyx\", line 61, in ray._raylet.check_status\n",
      "\u001b[2m\u001b[36m(pid=31861)\u001b[0m ray.exceptions.RayletError: The Raylet died with this message: [RayletClient] Connection closed unexpectedly.\n",
      "\u001b[2m\u001b[36m(pid=31874)\u001b[0m     worker.raylet_client.push_error(job_id, error_type, message, time.time())\n",
      "\u001b[2m\u001b[36m(pid=31874)\u001b[0m   File \"python/ray/_raylet.pyx\", line 300, in ray._raylet.RayletClient.push_error\n",
      "\u001b[2m\u001b[36m(pid=31874)\u001b[0m   File \"python/ray/_raylet.pyx\", line 61, in ray._raylet.check_status\n",
      "\u001b[2m\u001b[36m(pid=31874)\u001b[0m ray.exceptions.RayletError: The Raylet died with this message: [RayletClient] Connection closed unexpectedly.\n",
      "\u001b[2m\u001b[36m(pid=31867)\u001b[0m Traceback (most recent call last):\n",
      "\u001b[2m\u001b[36m(pid=31867)\u001b[0m   File \"/usr/local/lib/python3.6/site-packages/ray/workers/default_worker.py\", line 98, in <module>\n",
      "\u001b[2m\u001b[36m(pid=31867)\u001b[0m     ray.worker.global_worker.main_loop()\n",
      "\u001b[2m\u001b[36m(pid=31867)\u001b[0m   File \"/usr/local/lib/python3.6/site-packages/ray/worker.py\", line 1087, in main_loop\n",
      "\u001b[2m\u001b[36m(pid=31867)\u001b[0m     task = self._get_next_task_from_raylet()\n",
      "\u001b[2m\u001b[36m(pid=31867)\u001b[0m   File \"/usr/local/lib/python3.6/site-packages/ray/worker.py\", line 1070, in _get_next_task_from_raylet\n",
      "\u001b[2m\u001b[36m(pid=31867)\u001b[0m     task = self.raylet_client.get_task()\n",
      "\u001b[2m\u001b[36m(pid=31867)\u001b[0m   File \"python/ray/_raylet.pyx\", line 247, in ray._raylet.RayletClient.get_task\n",
      "\u001b[2m\u001b[36m(pid=31867)\u001b[0m   File \"python/ray/_raylet.pyx\", line 61, in ray._raylet.check_status\n",
      "\u001b[2m\u001b[36m(pid=31867)\u001b[0m ray.exceptions.RayletError: The Raylet died with this message: [RayletClient] Connection closed unexpectedly.\n",
      "\u001b[2m\u001b[36m(pid=31867)\u001b[0m \n",
      "\u001b[2m\u001b[36m(pid=31867)\u001b[0m During handling of the above exception, another exception occurred:\n",
      "\u001b[2m\u001b[36m(pid=31867)\u001b[0m \n",
      "\u001b[2m\u001b[36m(pid=31867)\u001b[0m Traceback (most recent call last):\n",
      "\u001b[2m\u001b[36m(pid=31867)\u001b[0m   File \"/usr/local/lib/python3.6/site-packages/ray/workers/default_worker.py\", line 105, in <module>\n",
      "\u001b[2m\u001b[36m(pid=31867)\u001b[0m     job_id=None)\n",
      "\u001b[2m\u001b[36m(pid=31867)\u001b[0m   File \"/usr/local/lib/python3.6/site-packages/ray/utils.py\", line 68, in push_error_to_driver\n",
      "\u001b[2m\u001b[36m(pid=31867)\u001b[0m     worker.raylet_client.push_error(job_id, error_type, message, time.time())\n",
      "\u001b[2m\u001b[36m(pid=31867)\u001b[0m   File \"python/ray/_raylet.pyx\", line 300, in ray._raylet.RayletClient.push_error\n",
      "\u001b[2m\u001b[36m(pid=31867)\u001b[0m   File \"python/ray/_raylet.pyx\", line 61, in ray._raylet.check_status\n",
      "\u001b[2m\u001b[36m(pid=31867)\u001b[0m ray.exceptions.RayletError: The Raylet died with this message: [RayletClient] Connection closed unexpectedly.\n",
      "\u001b[2m\u001b[36m(pid=31873)\u001b[0m     worker.raylet_client.push_error(job_id, error_type, message, time.time())\n",
      "\u001b[2m\u001b[36m(pid=31873)\u001b[0m   File \"python/ray/_raylet.pyx\", line 300, in ray._raylet.RayletClient.push_error\n",
      "\u001b[2m\u001b[36m(pid=31873)\u001b[0m   File \"python/ray/_raylet.pyx\", line 61, in ray._raylet.check_status\n",
      "\u001b[2m\u001b[36m(pid=31873)\u001b[0m ray.exceptions.RayletError: The Raylet died with this message: [RayletClient] Connection closed unexpectedly.\n",
      "\u001b[2m\u001b[36m(pid=31868)\u001b[0m Traceback (most recent call last):\n",
      "\u001b[2m\u001b[36m(pid=31868)\u001b[0m   File \"/usr/local/lib/python3.6/site-packages/ray/worker.py\", line 967, in _process_task\n",
      "\u001b[2m\u001b[36m(pid=31868)\u001b[0m     self._store_outputs_in_object_store(return_object_ids, outputs)\n",
      "\u001b[2m\u001b[36m(pid=31868)\u001b[0m   File \"/usr/local/lib/python3.6/site-packages/ray/worker.py\", line 880, in _store_outputs_in_object_store\n",
      "\u001b[2m\u001b[36m(pid=31868)\u001b[0m     self.put_object(object_ids[i], outputs[i])\n",
      "\u001b[2m\u001b[36m(pid=31868)\u001b[0m   File \"/usr/local/lib/python3.6/site-packages/ray/worker.py\", line 398, in put_object\n",
      "\u001b[2m\u001b[36m(pid=31868)\u001b[0m     self._try_store_and_register(object_id, value)\n",
      "\u001b[2m\u001b[36m(pid=31868)\u001b[0m   File \"/usr/local/lib/python3.6/site-packages/ray/worker.py\", line 418, in _try_store_and_register\n",
      "\u001b[2m\u001b[36m(pid=31868)\u001b[0m     self.store_and_register(object_id, value)\n",
      "\u001b[2m\u001b[36m(pid=31868)\u001b[0m   File \"/usr/local/lib/python3.6/site-packages/ray/worker.py\", line 327, in store_and_register\n",
      "\u001b[2m\u001b[36m(pid=31868)\u001b[0m     self.current_job_id))\n",
      "\u001b[2m\u001b[36m(pid=31868)\u001b[0m   File \"/usr/local/lib/python3.6/site-packages/ray/utils.py\", line 519, in _wrapper\n",
      "\u001b[2m\u001b[36m(pid=31868)\u001b[0m     return orig_attr(*args, **kwargs)\n",
      "\u001b[2m\u001b[36m(pid=31868)\u001b[0m   File \"pyarrow/_plasma.pyx\", line 530, in pyarrow._plasma.PlasmaClient.put\n",
      "\u001b[2m\u001b[36m(pid=31868)\u001b[0m   File \"pyarrow/_plasma.pyx\", line 358, in pyarrow._plasma.PlasmaClient.create\n",
      "\u001b[2m\u001b[36m(pid=31868)\u001b[0m   File \"pyarrow/_plasma.pyx\", line 285, in pyarrow._plasma.plasma_check_status\n",
      "\u001b[2m\u001b[36m(pid=31868)\u001b[0m   File \"pyarrow/error.pxi\", line 78, in pyarrow.lib.check_status\n",
      "\u001b[2m\u001b[36m(pid=31868)\u001b[0m pyarrow.lib.ArrowIOError: Encountered unexpected EOF\n",
      "\u001b[2m\u001b[36m(pid=31868)\u001b[0m \n",
      "\u001b[2m\u001b[36m(pid=31868)\u001b[0m During handling of the above exception, another exception occurred:\n",
      "\u001b[2m\u001b[36m(pid=31868)\u001b[0m \n",
      "\u001b[2m\u001b[36m(pid=31868)\u001b[0m Traceback (most recent call last):\n",
      "\u001b[2m\u001b[36m(pid=31868)\u001b[0m   File \"/usr/local/lib/python3.6/site-packages/ray/workers/default_worker.py\", line 98, in <module>\n",
      "\u001b[2m\u001b[36m(pid=31868)\u001b[0m     ray.worker.global_worker.main_loop()\n",
      "\u001b[2m\u001b[36m(pid=31868)\u001b[0m   File \"/usr/local/lib/python3.6/site-packages/ray/worker.py\", line 1088, in main_loop\n",
      "\u001b[2m\u001b[36m(pid=31868)\u001b[0m     self._wait_for_and_process_task(task)\n",
      "\u001b[2m\u001b[36m(pid=31868)\u001b[0m   File \"/usr/local/lib/python3.6/site-packages/ray/worker.py\", line 1039, in _wait_for_and_process_task\n",
      "\u001b[2m\u001b[36m(pid=31868)\u001b[0m     self._process_task(task, execution_info)\n",
      "\u001b[2m\u001b[36m(pid=31868)\u001b[0m   File \"/usr/local/lib/python3.6/site-packages/ray/worker.py\", line 971, in _process_task\n",
      "\u001b[2m\u001b[36m(pid=31868)\u001b[0m     ray.utils.format_error_message(traceback.format_exc()))\n",
      "\u001b[2m\u001b[36m(pid=31868)\u001b[0m   File \"/usr/local/lib/python3.6/site-packages/ray/worker.py\", line 980, in _handle_process_task_failure\n",
      "\u001b[2m\u001b[36m(pid=31868)\u001b[0m     self._store_outputs_in_object_store(return_object_ids, failure_objects)\n",
      "\u001b[2m\u001b[36m(pid=31868)\u001b[0m   File \"/usr/local/lib/python3.6/site-packages/ray/worker.py\", line 880, in _store_outputs_in_object_store\n",
      "\u001b[2m\u001b[36m(pid=31868)\u001b[0m     self.put_object(object_ids[i], outputs[i])\n",
      "\u001b[2m\u001b[36m(pid=31868)\u001b[0m   File \"/usr/local/lib/python3.6/site-packages/ray/worker.py\", line 398, in put_object\n",
      "\u001b[2m\u001b[36m(pid=31868)\u001b[0m     self._try_store_and_register(object_id, value)\n",
      "\u001b[2m\u001b[36m(pid=31868)\u001b[0m   File \"/usr/local/lib/python3.6/site-packages/ray/worker.py\", line 418, in _try_store_and_register\n",
      "\u001b[2m\u001b[36m(pid=31868)\u001b[0m     self.store_and_register(object_id, value)\n",
      "\u001b[2m\u001b[36m(pid=31868)\u001b[0m   File \"/usr/local/lib/python3.6/site-packages/ray/worker.py\", line 327, in store_and_register\n",
      "\u001b[2m\u001b[36m(pid=31868)\u001b[0m     self.current_job_id))\n",
      "\u001b[2m\u001b[36m(pid=31868)\u001b[0m   File \"/usr/local/lib/python3.6/site-packages/ray/utils.py\", line 519, in _wrapper\n",
      "\u001b[2m\u001b[36m(pid=31868)\u001b[0m     return orig_attr(*args, **kwargs)\n",
      "\u001b[2m\u001b[36m(pid=31868)\u001b[0m   File \"pyarrow/_plasma.pyx\", line 530, in pyarrow._plasma.PlasmaClient.put\n",
      "\u001b[2m\u001b[36m(pid=31868)\u001b[0m   File \"pyarrow/_plasma.pyx\", line 358, in pyarrow._plasma.PlasmaClient.create\n",
      "\u001b[2m\u001b[36m(pid=31868)\u001b[0m   File \"pyarrow/_plasma.pyx\", line 285, in pyarrow._plasma.plasma_check_status\n",
      "\u001b[2m\u001b[36m(pid=31868)\u001b[0m   File \"pyarrow/error.pxi\", line 78, in pyarrow.lib.check_status\n",
      "\u001b[2m\u001b[36m(pid=31868)\u001b[0m pyarrow.lib.ArrowIOError: Broken pipe\n",
      "\u001b[2m\u001b[36m(pid=31868)\u001b[0m \n",
      "\u001b[2m\u001b[36m(pid=31868)\u001b[0m During handling of the above exception, another exception occurred:\n",
      "\u001b[2m\u001b[36m(pid=31868)\u001b[0m \n",
      "\u001b[2m\u001b[36m(pid=31868)\u001b[0m Traceback (most recent call last):\n",
      "\u001b[2m\u001b[36m(pid=31868)\u001b[0m   File \"/usr/local/lib/python3.6/site-packages/ray/workers/default_worker.py\", line 105, in <module>\n",
      "\u001b[2m\u001b[36m(pid=31868)\u001b[0m     job_id=None)\n",
      "\u001b[2m\u001b[36m(pid=31868)\u001b[0m   File \"/usr/local/lib/python3.6/site-packages/ray/utils.py\", line 68, in push_error_to_driver\n",
      "\u001b[2m\u001b[36m(pid=31868)\u001b[0m     worker.raylet_client.push_error(job_id, error_type, message, time.time())\n",
      "\u001b[2m\u001b[36m(pid=31868)\u001b[0m   File \"python/ray/_raylet.pyx\", line 300, in ray._raylet.RayletClient.push_error\n",
      "\u001b[2m\u001b[36m(pid=31868)\u001b[0m   File \"python/ray/_raylet.pyx\", line 61, in ray._raylet.check_status\n",
      "\u001b[2m\u001b[36m(pid=31868)\u001b[0m ray.exceptions.RayletError: The Raylet died with this message: [RayletClient] Connection closed unexpectedly.\n",
      "\u001b[2m\u001b[36m(pid=31866)\u001b[0m Traceback (most recent call last):\n",
      "\u001b[2m\u001b[36m(pid=31866)\u001b[0m   File \"/usr/local/lib/python3.6/site-packages/ray/workers/default_worker.py\", line 98, in <module>\n",
      "\u001b[2m\u001b[36m(pid=31866)\u001b[0m     ray.worker.global_worker.main_loop()\n",
      "\u001b[2m\u001b[36m(pid=31866)\u001b[0m   File \"/usr/local/lib/python3.6/site-packages/ray/worker.py\", line 1087, in main_loop\n",
      "\u001b[2m\u001b[36m(pid=31866)\u001b[0m     task = self._get_next_task_from_raylet()\n",
      "\u001b[2m\u001b[36m(pid=31866)\u001b[0m   File \"/usr/local/lib/python3.6/site-packages/ray/worker.py\", line 1070, in _get_next_task_from_raylet\n",
      "\u001b[2m\u001b[36m(pid=31866)\u001b[0m     task = self.raylet_client.get_task()\n",
      "\u001b[2m\u001b[36m(pid=31866)\u001b[0m   File \"python/ray/_raylet.pyx\", line 247, in ray._raylet.RayletClient.get_task\n",
      "\u001b[2m\u001b[36m(pid=31866)\u001b[0m   File \"python/ray/_raylet.pyx\", line 61, in ray._raylet.check_status\n",
      "\u001b[2m\u001b[36m(pid=31866)\u001b[0m ray.exceptions.RayletError: The Raylet died with this message: [RayletClient] Connection closed unexpectedly.\n",
      "\u001b[2m\u001b[36m(pid=31866)\u001b[0m \n",
      "\u001b[2m\u001b[36m(pid=31866)\u001b[0m During handling of the above exception, another exception occurred:\n",
      "\u001b[2m\u001b[36m(pid=31866)\u001b[0m \n",
      "\u001b[2m\u001b[36m(pid=31866)\u001b[0m Traceback (most recent call last):\n",
      "\u001b[2m\u001b[36m(pid=31866)\u001b[0m   File \"/usr/local/lib/python3.6/site-packages/ray/workers/default_worker.py\", line 105, in <module>\n",
      "\u001b[2m\u001b[36m(pid=31866)\u001b[0m     job_id=None)\n",
      "\u001b[2m\u001b[36m(pid=31866)\u001b[0m   File \"/usr/local/lib/python3.6/site-packages/ray/utils.py\", line 68, in push_error_to_driver\n",
      "\u001b[2m\u001b[36m(pid=31866)\u001b[0m     worker.raylet_client.push_error(job_id, error_type, message, time.time())\n",
      "\u001b[2m\u001b[36m(pid=31866)\u001b[0m   File \"python/ray/_raylet.pyx\", line 300, in ray._raylet.RayletClient.push_error\n",
      "\u001b[2m\u001b[36m(pid=31866)\u001b[0m   File \"python/ray/_raylet.pyx\", line 61, in ray._raylet.check_status\n",
      "\u001b[2m\u001b[36m(pid=31866)\u001b[0m ray.exceptions.RayletError: The Raylet died with this message: [RayletClient] Connection closed unexpectedly.\n",
      "\u001b[2m\u001b[36m(pid=31875)\u001b[0m WARNING: Not monitoring node memory since `psutil` is not installed. Install this with `pip install psutil` (or ray[debug]) to enable debugging of memory-related crashes.\n",
      "\u001b[2m\u001b[36m(pid=31872)\u001b[0m WARNING: Not monitoring node memory since `psutil` is not installed. Install this with `pip install psutil` (or ray[debug]) to enable debugging of memory-related crashes.\n",
      "\u001b[2m\u001b[36m(pid=31862)\u001b[0m WARNING: Not monitoring node memory since `psutil` is not installed. Install this with `pip install psutil` (or ray[debug]) to enable debugging of memory-related crashes.\n",
      "\u001b[2m\u001b[36m(pid=31860)\u001b[0m WARNING: Not monitoring node memory since `psutil` is not installed. Install this with `pip install psutil` (or ray[debug]) to enable debugging of memory-related crashes.\n",
      "\u001b[2m\u001b[36m(pid=31861)\u001b[0m WARNING: Not monitoring node memory since `psutil` is not installed. Install this with `pip install psutil` (or ray[debug]) to enable debugging of memory-related crashes.\n",
      "\u001b[2m\u001b[36m(pid=31874)\u001b[0m WARNING: Not monitoring node memory since `psutil` is not installed. Install this with `pip install psutil` (or ray[debug]) to enable debugging of memory-related crashes.\n",
      "\u001b[2m\u001b[36m(pid=31873)\u001b[0m WARNING: Not monitoring node memory since `psutil` is not installed. Install this with `pip install psutil` (or ray[debug]) to enable debugging of memory-related crashes.\n",
      "\u001b[2m\u001b[36m(pid=31866)\u001b[0m WARNING: Not monitoring node memory since `psutil` is not installed. Install this with `pip install psutil` (or ray[debug]) to enable debugging of memory-related crashes.\n",
      "\u001b[2m\u001b[36m(pid=31867)\u001b[0m WARNING: Not monitoring node memory since `psutil` is not installed. Install this with `pip install psutil` (or ray[debug]) to enable debugging of memory-related crashes.\n",
      "\u001b[2m\u001b[36m(pid=31868)\u001b[0m WARNING: Not monitoring node memory since `psutil` is not installed. Install this with `pip install psutil` (or ray[debug]) to enable debugging of memory-related crashes.\n"
     ]
    },
    {
     "ename": "ArrowIOError",
     "evalue": "Encountered unexpected EOF",
     "output_type": "error",
     "traceback": [
      "\u001b[0;31m---------------------------------------------------------------------------\u001b[0m",
      "\u001b[0;31mArrowIOError\u001b[0m                              Traceback (most recent call last)",
      "\u001b[0;32m<ipython-input-15-9a3cf92dc4e8>\u001b[0m in \u001b[0;36m<module>\u001b[0;34m\u001b[0m\n\u001b[0;32m----> 1\u001b[0;31m \u001b[0mget_ipython\u001b[0m\u001b[0;34m(\u001b[0m\u001b[0;34m)\u001b[0m\u001b[0;34m.\u001b[0m\u001b[0mrun_line_magic\u001b[0m\u001b[0;34m(\u001b[0m\u001b[0;34m'timeit'\u001b[0m\u001b[0;34m,\u001b[0m \u001b[0;34m'-n 1 -r 10 executeQueryJoin(t)'\u001b[0m\u001b[0;34m)\u001b[0m\u001b[0;34m\u001b[0m\u001b[0;34m\u001b[0m\u001b[0m\n\u001b[0m",
      "\u001b[0;32m/usr/local/lib/python3.6/site-packages/IPython/core/interactiveshell.py\u001b[0m in \u001b[0;36mrun_line_magic\u001b[0;34m(self, magic_name, line, _stack_depth)\u001b[0m\n\u001b[1;32m   2312\u001b[0m                 \u001b[0mkwargs\u001b[0m\u001b[0;34m[\u001b[0m\u001b[0;34m'local_ns'\u001b[0m\u001b[0;34m]\u001b[0m \u001b[0;34m=\u001b[0m \u001b[0msys\u001b[0m\u001b[0;34m.\u001b[0m\u001b[0m_getframe\u001b[0m\u001b[0;34m(\u001b[0m\u001b[0mstack_depth\u001b[0m\u001b[0;34m)\u001b[0m\u001b[0;34m.\u001b[0m\u001b[0mf_locals\u001b[0m\u001b[0;34m\u001b[0m\u001b[0;34m\u001b[0m\u001b[0m\n\u001b[1;32m   2313\u001b[0m             \u001b[0;32mwith\u001b[0m \u001b[0mself\u001b[0m\u001b[0;34m.\u001b[0m\u001b[0mbuiltin_trap\u001b[0m\u001b[0;34m:\u001b[0m\u001b[0;34m\u001b[0m\u001b[0;34m\u001b[0m\u001b[0m\n\u001b[0;32m-> 2314\u001b[0;31m                 \u001b[0mresult\u001b[0m \u001b[0;34m=\u001b[0m \u001b[0mfn\u001b[0m\u001b[0;34m(\u001b[0m\u001b[0;34m*\u001b[0m\u001b[0margs\u001b[0m\u001b[0;34m,\u001b[0m \u001b[0;34m**\u001b[0m\u001b[0mkwargs\u001b[0m\u001b[0;34m)\u001b[0m\u001b[0;34m\u001b[0m\u001b[0;34m\u001b[0m\u001b[0m\n\u001b[0m\u001b[1;32m   2315\u001b[0m             \u001b[0;32mreturn\u001b[0m \u001b[0mresult\u001b[0m\u001b[0;34m\u001b[0m\u001b[0;34m\u001b[0m\u001b[0m\n\u001b[1;32m   2316\u001b[0m \u001b[0;34m\u001b[0m\u001b[0m\n",
      "\u001b[0;32m</usr/local/lib/python3.6/site-packages/decorator.py:decorator-gen-60>\u001b[0m in \u001b[0;36mtimeit\u001b[0;34m(self, line, cell, local_ns)\u001b[0m\n",
      "\u001b[0;32m/usr/local/lib/python3.6/site-packages/IPython/core/magic.py\u001b[0m in \u001b[0;36m<lambda>\u001b[0;34m(f, *a, **k)\u001b[0m\n\u001b[1;32m    185\u001b[0m     \u001b[0;31m# but it's overkill for just that one bit of state.\u001b[0m\u001b[0;34m\u001b[0m\u001b[0;34m\u001b[0m\u001b[0;34m\u001b[0m\u001b[0m\n\u001b[1;32m    186\u001b[0m     \u001b[0;32mdef\u001b[0m \u001b[0mmagic_deco\u001b[0m\u001b[0;34m(\u001b[0m\u001b[0marg\u001b[0m\u001b[0;34m)\u001b[0m\u001b[0;34m:\u001b[0m\u001b[0;34m\u001b[0m\u001b[0;34m\u001b[0m\u001b[0m\n\u001b[0;32m--> 187\u001b[0;31m         \u001b[0mcall\u001b[0m \u001b[0;34m=\u001b[0m \u001b[0;32mlambda\u001b[0m \u001b[0mf\u001b[0m\u001b[0;34m,\u001b[0m \u001b[0;34m*\u001b[0m\u001b[0ma\u001b[0m\u001b[0;34m,\u001b[0m \u001b[0;34m**\u001b[0m\u001b[0mk\u001b[0m\u001b[0;34m:\u001b[0m \u001b[0mf\u001b[0m\u001b[0;34m(\u001b[0m\u001b[0;34m*\u001b[0m\u001b[0ma\u001b[0m\u001b[0;34m,\u001b[0m \u001b[0;34m**\u001b[0m\u001b[0mk\u001b[0m\u001b[0;34m)\u001b[0m\u001b[0;34m\u001b[0m\u001b[0;34m\u001b[0m\u001b[0m\n\u001b[0m\u001b[1;32m    188\u001b[0m \u001b[0;34m\u001b[0m\u001b[0m\n\u001b[1;32m    189\u001b[0m         \u001b[0;32mif\u001b[0m \u001b[0mcallable\u001b[0m\u001b[0;34m(\u001b[0m\u001b[0marg\u001b[0m\u001b[0;34m)\u001b[0m\u001b[0;34m:\u001b[0m\u001b[0;34m\u001b[0m\u001b[0;34m\u001b[0m\u001b[0m\n",
      "\u001b[0;32m/usr/local/lib/python3.6/site-packages/IPython/core/magics/execution.py\u001b[0m in \u001b[0;36mtimeit\u001b[0;34m(self, line, cell, local_ns)\u001b[0m\n\u001b[1;32m   1160\u001b[0m                     \u001b[0;32mbreak\u001b[0m\u001b[0;34m\u001b[0m\u001b[0;34m\u001b[0m\u001b[0m\n\u001b[1;32m   1161\u001b[0m \u001b[0;34m\u001b[0m\u001b[0m\n\u001b[0;32m-> 1162\u001b[0;31m         \u001b[0mall_runs\u001b[0m \u001b[0;34m=\u001b[0m \u001b[0mtimer\u001b[0m\u001b[0;34m.\u001b[0m\u001b[0mrepeat\u001b[0m\u001b[0;34m(\u001b[0m\u001b[0mrepeat\u001b[0m\u001b[0;34m,\u001b[0m \u001b[0mnumber\u001b[0m\u001b[0;34m)\u001b[0m\u001b[0;34m\u001b[0m\u001b[0;34m\u001b[0m\u001b[0m\n\u001b[0m\u001b[1;32m   1163\u001b[0m         \u001b[0mbest\u001b[0m \u001b[0;34m=\u001b[0m \u001b[0mmin\u001b[0m\u001b[0;34m(\u001b[0m\u001b[0mall_runs\u001b[0m\u001b[0;34m)\u001b[0m \u001b[0;34m/\u001b[0m \u001b[0mnumber\u001b[0m\u001b[0;34m\u001b[0m\u001b[0;34m\u001b[0m\u001b[0m\n\u001b[1;32m   1164\u001b[0m         \u001b[0mworst\u001b[0m \u001b[0;34m=\u001b[0m \u001b[0mmax\u001b[0m\u001b[0;34m(\u001b[0m\u001b[0mall_runs\u001b[0m\u001b[0;34m)\u001b[0m \u001b[0;34m/\u001b[0m \u001b[0mnumber\u001b[0m\u001b[0;34m\u001b[0m\u001b[0;34m\u001b[0m\u001b[0m\n",
      "\u001b[0;32m/usr/lib64/python3.6/timeit.py\u001b[0m in \u001b[0;36mrepeat\u001b[0;34m(self, repeat, number)\u001b[0m\n\u001b[1;32m    204\u001b[0m         \u001b[0mr\u001b[0m \u001b[0;34m=\u001b[0m \u001b[0;34m[\u001b[0m\u001b[0;34m]\u001b[0m\u001b[0;34m\u001b[0m\u001b[0;34m\u001b[0m\u001b[0m\n\u001b[1;32m    205\u001b[0m         \u001b[0;32mfor\u001b[0m \u001b[0mi\u001b[0m \u001b[0;32min\u001b[0m \u001b[0mrange\u001b[0m\u001b[0;34m(\u001b[0m\u001b[0mrepeat\u001b[0m\u001b[0;34m)\u001b[0m\u001b[0;34m:\u001b[0m\u001b[0;34m\u001b[0m\u001b[0;34m\u001b[0m\u001b[0m\n\u001b[0;32m--> 206\u001b[0;31m             \u001b[0mt\u001b[0m \u001b[0;34m=\u001b[0m \u001b[0mself\u001b[0m\u001b[0;34m.\u001b[0m\u001b[0mtimeit\u001b[0m\u001b[0;34m(\u001b[0m\u001b[0mnumber\u001b[0m\u001b[0;34m)\u001b[0m\u001b[0;34m\u001b[0m\u001b[0;34m\u001b[0m\u001b[0m\n\u001b[0m\u001b[1;32m    207\u001b[0m             \u001b[0mr\u001b[0m\u001b[0;34m.\u001b[0m\u001b[0mappend\u001b[0m\u001b[0;34m(\u001b[0m\u001b[0mt\u001b[0m\u001b[0;34m)\u001b[0m\u001b[0;34m\u001b[0m\u001b[0;34m\u001b[0m\u001b[0m\n\u001b[1;32m    208\u001b[0m         \u001b[0;32mreturn\u001b[0m \u001b[0mr\u001b[0m\u001b[0;34m\u001b[0m\u001b[0;34m\u001b[0m\u001b[0m\n",
      "\u001b[0;32m/usr/local/lib/python3.6/site-packages/IPython/core/magics/execution.py\u001b[0m in \u001b[0;36mtimeit\u001b[0;34m(self, number)\u001b[0m\n\u001b[1;32m    167\u001b[0m         \u001b[0mgc\u001b[0m\u001b[0;34m.\u001b[0m\u001b[0mdisable\u001b[0m\u001b[0;34m(\u001b[0m\u001b[0;34m)\u001b[0m\u001b[0;34m\u001b[0m\u001b[0;34m\u001b[0m\u001b[0m\n\u001b[1;32m    168\u001b[0m         \u001b[0;32mtry\u001b[0m\u001b[0;34m:\u001b[0m\u001b[0;34m\u001b[0m\u001b[0;34m\u001b[0m\u001b[0m\n\u001b[0;32m--> 169\u001b[0;31m             \u001b[0mtiming\u001b[0m \u001b[0;34m=\u001b[0m \u001b[0mself\u001b[0m\u001b[0;34m.\u001b[0m\u001b[0minner\u001b[0m\u001b[0;34m(\u001b[0m\u001b[0mit\u001b[0m\u001b[0;34m,\u001b[0m \u001b[0mself\u001b[0m\u001b[0;34m.\u001b[0m\u001b[0mtimer\u001b[0m\u001b[0;34m)\u001b[0m\u001b[0;34m\u001b[0m\u001b[0;34m\u001b[0m\u001b[0m\n\u001b[0m\u001b[1;32m    170\u001b[0m         \u001b[0;32mfinally\u001b[0m\u001b[0;34m:\u001b[0m\u001b[0;34m\u001b[0m\u001b[0;34m\u001b[0m\u001b[0m\n\u001b[1;32m    171\u001b[0m             \u001b[0;32mif\u001b[0m \u001b[0mgcold\u001b[0m\u001b[0;34m:\u001b[0m\u001b[0;34m\u001b[0m\u001b[0;34m\u001b[0m\u001b[0m\n",
      "\u001b[0;32m<magic-timeit>\u001b[0m in \u001b[0;36minner\u001b[0;34m(_it, _timer)\u001b[0m\n",
      "\u001b[0;32m<ipython-input-5-384acef26877>\u001b[0m in \u001b[0;36mexecuteQueryJoin\u001b[0;34m(t)\u001b[0m\n\u001b[1;32m      4\u001b[0m     return res.rename(columns={'bucket_len':'NR', 'qty_sum':'TOTAL_QTY','qty_mean':'AVG_QTY', \n\u001b[1;32m      5\u001b[0m                         'risk_sum':'TOTAL_RISK','risk_mean':'AVG_RISK'}).join(\n\u001b[0;32m----> 6\u001b[0;31m         \u001b[0mt\u001b[0m\u001b[0;34m.\u001b[0m\u001b[0mgroupby\u001b[0m\u001b[0;34m(\u001b[0m\u001b[0;34m'bucket'\u001b[0m\u001b[0;34m)\u001b[0m\u001b[0;34m.\u001b[0m\u001b[0mapply\u001b[0m\u001b[0;34m(\u001b[0m\u001b[0;32mlambda\u001b[0m \u001b[0mg\u001b[0m\u001b[0;34m:\u001b[0m \u001b[0mnp\u001b[0m\u001b[0;34m.\u001b[0m\u001b[0maverage\u001b[0m\u001b[0;34m(\u001b[0m\u001b[0mg\u001b[0m\u001b[0;34m.\u001b[0m\u001b[0mqty\u001b[0m\u001b[0;34m,\u001b[0m \u001b[0mweights\u001b[0m\u001b[0;34m=\u001b[0m\u001b[0mg\u001b[0m\u001b[0;34m.\u001b[0m\u001b[0mweight\u001b[0m\u001b[0;34m)\u001b[0m\u001b[0;34m)\u001b[0m\u001b[0;34m.\u001b[0m\u001b[0mtranspose\u001b[0m\u001b[0;34m(\u001b[0m\u001b[0;34m)\u001b[0m\u001b[0;34m.\u001b[0m\u001b[0mrename\u001b[0m\u001b[0;34m(\u001b[0m\u001b[0mcolumns\u001b[0m\u001b[0;34m=\u001b[0m\u001b[0;34m{\u001b[0m\u001b[0;36m0\u001b[0m\u001b[0;34m:\u001b[0m \u001b[0;34m'W_AVG_QTY'\u001b[0m\u001b[0;34m}\u001b[0m\u001b[0;34m)\u001b[0m\u001b[0;34m)\u001b[0m\u001b[0;34m.\u001b[0m\u001b[0mjoin\u001b[0m\u001b[0;34m(\u001b[0m\u001b[0;34m\u001b[0m\u001b[0;34m\u001b[0m\u001b[0m\n\u001b[0m\u001b[1;32m      7\u001b[0m         t.groupby('bucket').apply(lambda g: np.average(g.risk, weights=g.weight)).transpose().rename(columns={0: 'W_AVG_RISK'}))\n",
      "\u001b[0;32m/usr/local/lib/python3.6/site-packages/modin/pandas/groupby.py\u001b[0m in \u001b[0;36mapply\u001b[0;34m(self, func, *args, **kwargs)\u001b[0m\n\u001b[1;32m    216\u001b[0m \u001b[0;34m\u001b[0m\u001b[0m\n\u001b[1;32m    217\u001b[0m     \u001b[0;32mdef\u001b[0m \u001b[0mapply\u001b[0m\u001b[0;34m(\u001b[0m\u001b[0mself\u001b[0m\u001b[0;34m,\u001b[0m \u001b[0mfunc\u001b[0m\u001b[0;34m,\u001b[0m \u001b[0;34m*\u001b[0m\u001b[0margs\u001b[0m\u001b[0;34m,\u001b[0m \u001b[0;34m**\u001b[0m\u001b[0mkwargs\u001b[0m\u001b[0;34m)\u001b[0m\u001b[0;34m:\u001b[0m\u001b[0;34m\u001b[0m\u001b[0;34m\u001b[0m\u001b[0m\n\u001b[0;32m--> 218\u001b[0;31m         \u001b[0;32mreturn\u001b[0m \u001b[0mself\u001b[0m\u001b[0;34m.\u001b[0m\u001b[0m_apply_agg_function\u001b[0m\u001b[0;34m(\u001b[0m\u001b[0;32mlambda\u001b[0m \u001b[0mdf\u001b[0m\u001b[0;34m:\u001b[0m \u001b[0mdf\u001b[0m\u001b[0;34m.\u001b[0m\u001b[0mapply\u001b[0m\u001b[0;34m(\u001b[0m\u001b[0mfunc\u001b[0m\u001b[0;34m,\u001b[0m \u001b[0;34m*\u001b[0m\u001b[0margs\u001b[0m\u001b[0;34m,\u001b[0m \u001b[0;34m**\u001b[0m\u001b[0mkwargs\u001b[0m\u001b[0;34m)\u001b[0m\u001b[0;34m)\u001b[0m\u001b[0;34m\u001b[0m\u001b[0;34m\u001b[0m\u001b[0m\n\u001b[0m\u001b[1;32m    219\u001b[0m \u001b[0;34m\u001b[0m\u001b[0m\n\u001b[1;32m    220\u001b[0m     \u001b[0;34m@\u001b[0m\u001b[0mproperty\u001b[0m\u001b[0;34m\u001b[0m\u001b[0;34m\u001b[0m\u001b[0m\n",
      "\u001b[0;32m/usr/local/lib/python3.6/site-packages/modin/pandas/groupby.py\u001b[0m in \u001b[0;36m_apply_agg_function\u001b[0;34m(self, f, drop, **kwargs)\u001b[0m\n\u001b[1;32m    469\u001b[0m         \u001b[0;32melse\u001b[0m\u001b[0;34m:\u001b[0m\u001b[0;34m\u001b[0m\u001b[0;34m\u001b[0m\u001b[0m\n\u001b[1;32m    470\u001b[0m             \u001b[0mgroupby_qc\u001b[0m \u001b[0;34m=\u001b[0m \u001b[0mself\u001b[0m\u001b[0;34m.\u001b[0m\u001b[0m_query_compiler\u001b[0m\u001b[0;34m\u001b[0m\u001b[0;34m\u001b[0m\u001b[0m\n\u001b[0;32m--> 471\u001b[0;31m         \u001b[0mnew_manager\u001b[0m \u001b[0;34m=\u001b[0m \u001b[0mgroupby_qc\u001b[0m\u001b[0;34m.\u001b[0m\u001b[0mgroupby_agg\u001b[0m\u001b[0;34m(\u001b[0m\u001b[0mby\u001b[0m\u001b[0;34m,\u001b[0m \u001b[0mself\u001b[0m\u001b[0;34m.\u001b[0m\u001b[0m_axis\u001b[0m\u001b[0;34m,\u001b[0m \u001b[0mf\u001b[0m\u001b[0;34m,\u001b[0m \u001b[0mself\u001b[0m\u001b[0;34m.\u001b[0m\u001b[0m_kwargs\u001b[0m\u001b[0;34m,\u001b[0m \u001b[0mkwargs\u001b[0m\u001b[0;34m)\u001b[0m\u001b[0;34m\u001b[0m\u001b[0;34m\u001b[0m\u001b[0m\n\u001b[0m\u001b[1;32m    472\u001b[0m         \u001b[0;32mif\u001b[0m \u001b[0mself\u001b[0m\u001b[0;34m.\u001b[0m\u001b[0m_idx_name\u001b[0m \u001b[0;32mis\u001b[0m \u001b[0;32mnot\u001b[0m \u001b[0;32mNone\u001b[0m \u001b[0;32mand\u001b[0m \u001b[0mself\u001b[0m\u001b[0;34m.\u001b[0m\u001b[0m_as_index\u001b[0m\u001b[0;34m:\u001b[0m\u001b[0;34m\u001b[0m\u001b[0;34m\u001b[0m\u001b[0m\n\u001b[1;32m    473\u001b[0m             \u001b[0mnew_manager\u001b[0m\u001b[0;34m.\u001b[0m\u001b[0mindex\u001b[0m\u001b[0;34m.\u001b[0m\u001b[0mname\u001b[0m \u001b[0;34m=\u001b[0m \u001b[0mself\u001b[0m\u001b[0;34m.\u001b[0m\u001b[0m_idx_name\u001b[0m\u001b[0;34m\u001b[0m\u001b[0;34m\u001b[0m\u001b[0m\n",
      "\u001b[0;32m/usr/local/lib/python3.6/site-packages/modin/backends/pandas/query_compiler.py\u001b[0m in \u001b[0;36mgroupby_agg\u001b[0;34m(self, by, axis, agg_func, groupby_args, agg_args)\u001b[0m\n\u001b[1;32m   1203\u001b[0m \u001b[0;34m\u001b[0m\u001b[0m\n\u001b[1;32m   1204\u001b[0m         new_modin_frame = self._modin_frame._apply_full_axis(\n\u001b[0;32m-> 1205\u001b[0;31m             \u001b[0maxis\u001b[0m\u001b[0;34m,\u001b[0m \u001b[0;32mlambda\u001b[0m \u001b[0mdf\u001b[0m\u001b[0;34m:\u001b[0m \u001b[0mgroupby_agg_builder\u001b[0m\u001b[0;34m(\u001b[0m\u001b[0mdf\u001b[0m\u001b[0;34m)\u001b[0m\u001b[0;34m\u001b[0m\u001b[0;34m\u001b[0m\u001b[0m\n\u001b[0m\u001b[1;32m   1206\u001b[0m         )\n\u001b[1;32m   1207\u001b[0m         \u001b[0;32mreturn\u001b[0m \u001b[0mself\u001b[0m\u001b[0;34m.\u001b[0m\u001b[0m__constructor__\u001b[0m\u001b[0;34m(\u001b[0m\u001b[0mnew_modin_frame\u001b[0m\u001b[0;34m)\u001b[0m\u001b[0;34m\u001b[0m\u001b[0;34m\u001b[0m\u001b[0m\n",
      "\u001b[0;32m/usr/local/lib/python3.6/site-packages/modin/engines/base/frame/data.py\u001b[0m in \u001b[0;36m_apply_full_axis\u001b[0;34m(self, axis, func, new_index, new_columns, dtypes)\u001b[0m\n\u001b[1;32m    847\u001b[0m         \u001b[0;32mif\u001b[0m \u001b[0mnew_columns\u001b[0m \u001b[0;32mis\u001b[0m \u001b[0;32mNone\u001b[0m\u001b[0;34m:\u001b[0m\u001b[0;34m\u001b[0m\u001b[0;34m\u001b[0m\u001b[0m\n\u001b[1;32m    848\u001b[0m             new_columns = self._frame_mgr_cls.get_indices(\n\u001b[0;32m--> 849\u001b[0;31m                 \u001b[0;36m1\u001b[0m\u001b[0;34m,\u001b[0m \u001b[0mnew_partitions\u001b[0m\u001b[0;34m,\u001b[0m \u001b[0;32mlambda\u001b[0m \u001b[0mdf\u001b[0m\u001b[0;34m:\u001b[0m \u001b[0mdf\u001b[0m\u001b[0;34m.\u001b[0m\u001b[0mcolumns\u001b[0m\u001b[0;34m\u001b[0m\u001b[0;34m\u001b[0m\u001b[0m\n\u001b[0m\u001b[1;32m    850\u001b[0m             )\n\u001b[1;32m    851\u001b[0m         \u001b[0;32mif\u001b[0m \u001b[0mnew_index\u001b[0m \u001b[0;32mis\u001b[0m \u001b[0;32mNone\u001b[0m\u001b[0;34m:\u001b[0m\u001b[0;34m\u001b[0m\u001b[0;34m\u001b[0m\u001b[0m\n",
      "\u001b[0;32m/usr/local/lib/python3.6/site-packages/modin/engines/ray/pandas_on_ray/frame/partition_manager.py\u001b[0m in \u001b[0;36mget_indices\u001b[0;34m(cls, axis, partitions, index_func)\u001b[0m\n\u001b[1;32m     54\u001b[0m                 \u001b[0;32melse\u001b[0m \u001b[0;34m[\u001b[0m\u001b[0;34m]\u001b[0m\u001b[0;34m\u001b[0m\u001b[0;34m\u001b[0m\u001b[0m\n\u001b[1;32m     55\u001b[0m             )\n\u001b[0;32m---> 56\u001b[0;31m         \u001b[0mnew_idx\u001b[0m \u001b[0;34m=\u001b[0m \u001b[0mray\u001b[0m\u001b[0;34m.\u001b[0m\u001b[0mget\u001b[0m\u001b[0;34m(\u001b[0m\u001b[0mnew_idx\u001b[0m\u001b[0;34m)\u001b[0m\u001b[0;34m\u001b[0m\u001b[0;34m\u001b[0m\u001b[0m\n\u001b[0m\u001b[1;32m     57\u001b[0m         \u001b[0;32mreturn\u001b[0m \u001b[0mnew_idx\u001b[0m\u001b[0;34m[\u001b[0m\u001b[0;36m0\u001b[0m\u001b[0;34m]\u001b[0m\u001b[0;34m.\u001b[0m\u001b[0mappend\u001b[0m\u001b[0;34m(\u001b[0m\u001b[0mnew_idx\u001b[0m\u001b[0;34m[\u001b[0m\u001b[0;36m1\u001b[0m\u001b[0;34m:\u001b[0m\u001b[0;34m]\u001b[0m\u001b[0;34m)\u001b[0m \u001b[0;32mif\u001b[0m \u001b[0mlen\u001b[0m\u001b[0;34m(\u001b[0m\u001b[0mnew_idx\u001b[0m\u001b[0;34m)\u001b[0m \u001b[0;32melse\u001b[0m \u001b[0mnew_idx\u001b[0m\u001b[0;34m\u001b[0m\u001b[0;34m\u001b[0m\u001b[0m\n\u001b[1;32m     58\u001b[0m \u001b[0;34m\u001b[0m\u001b[0m\n",
      "\u001b[0;32m/usr/local/lib/python3.6/site-packages/ray/worker.py\u001b[0m in \u001b[0;36mget\u001b[0;34m(object_ids)\u001b[0m\n\u001b[1;32m   2241\u001b[0m \u001b[0;34m\u001b[0m\u001b[0m\n\u001b[1;32m   2242\u001b[0m         \u001b[0;32mglobal\u001b[0m \u001b[0mlast_task_error_raise_time\u001b[0m\u001b[0;34m\u001b[0m\u001b[0;34m\u001b[0m\u001b[0m\n\u001b[0;32m-> 2243\u001b[0;31m         \u001b[0mvalues\u001b[0m \u001b[0;34m=\u001b[0m \u001b[0mworker\u001b[0m\u001b[0;34m.\u001b[0m\u001b[0mget_object\u001b[0m\u001b[0;34m(\u001b[0m\u001b[0mobject_ids\u001b[0m\u001b[0;34m)\u001b[0m\u001b[0;34m\u001b[0m\u001b[0;34m\u001b[0m\u001b[0m\n\u001b[0m\u001b[1;32m   2244\u001b[0m         \u001b[0;32mfor\u001b[0m \u001b[0mi\u001b[0m\u001b[0;34m,\u001b[0m \u001b[0mvalue\u001b[0m \u001b[0;32min\u001b[0m \u001b[0menumerate\u001b[0m\u001b[0;34m(\u001b[0m\u001b[0mvalues\u001b[0m\u001b[0;34m)\u001b[0m\u001b[0;34m:\u001b[0m\u001b[0;34m\u001b[0m\u001b[0;34m\u001b[0m\u001b[0m\n\u001b[1;32m   2245\u001b[0m             \u001b[0;32mif\u001b[0m \u001b[0misinstance\u001b[0m\u001b[0;34m(\u001b[0m\u001b[0mvalue\u001b[0m\u001b[0;34m,\u001b[0m \u001b[0mRayError\u001b[0m\u001b[0;34m)\u001b[0m\u001b[0;34m:\u001b[0m\u001b[0;34m\u001b[0m\u001b[0;34m\u001b[0m\u001b[0m\n",
      "\u001b[0;32m/usr/local/lib/python3.6/site-packages/ray/worker.py\u001b[0m in \u001b[0;36mget_object\u001b[0;34m(self, object_ids)\u001b[0m\n\u001b[1;32m    585\u001b[0m                     max([\n\u001b[1;32m    586\u001b[0m                         \u001b[0mray\u001b[0m\u001b[0;34m.\u001b[0m\u001b[0m_config\u001b[0m\u001b[0;34m.\u001b[0m\u001b[0mget_timeout_milliseconds\u001b[0m\u001b[0;34m(\u001b[0m\u001b[0;34m)\u001b[0m\u001b[0;34m,\u001b[0m\u001b[0;34m\u001b[0m\u001b[0;34m\u001b[0m\u001b[0m\n\u001b[0;32m--> 587\u001b[0;31m                         \u001b[0mint\u001b[0m\u001b[0;34m(\u001b[0m\u001b[0;36m0.01\u001b[0m \u001b[0;34m*\u001b[0m \u001b[0mlen\u001b[0m\u001b[0;34m(\u001b[0m\u001b[0munready_ids\u001b[0m\u001b[0;34m)\u001b[0m\u001b[0;34m)\u001b[0m\u001b[0;34m,\u001b[0m\u001b[0;34m\u001b[0m\u001b[0;34m\u001b[0m\u001b[0m\n\u001b[0m\u001b[1;32m    588\u001b[0m                     ]),\n\u001b[1;32m    589\u001b[0m                 )\n",
      "\u001b[0;32m/usr/local/lib/python3.6/site-packages/ray/worker.py\u001b[0m in \u001b[0;36mretrieve_and_deserialize\u001b[0;34m(self, object_ids, timeout, error_timeout)\u001b[0m\n\u001b[1;32m    455\u001b[0m                         \u001b[0mobject_ids\u001b[0m\u001b[0;34m[\u001b[0m\u001b[0mi\u001b[0m\u001b[0;34m:\u001b[0m\u001b[0mi\u001b[0m \u001b[0;34m+\u001b[0m \u001b[0mbatch_size\u001b[0m\u001b[0;34m]\u001b[0m\u001b[0;34m,\u001b[0m\u001b[0;34m\u001b[0m\u001b[0;34m\u001b[0m\u001b[0m\n\u001b[1;32m    456\u001b[0m                         \u001b[0mtimeout\u001b[0m\u001b[0;34m,\u001b[0m\u001b[0;34m\u001b[0m\u001b[0;34m\u001b[0m\u001b[0m\n\u001b[0;32m--> 457\u001b[0;31m                         \u001b[0mwith_meta\u001b[0m\u001b[0;34m=\u001b[0m\u001b[0;32mTrue\u001b[0m\u001b[0;34m,\u001b[0m\u001b[0;34m\u001b[0m\u001b[0;34m\u001b[0m\u001b[0m\n\u001b[0m\u001b[1;32m    458\u001b[0m                     )\n\u001b[1;32m    459\u001b[0m                     \u001b[0;32mfor\u001b[0m \u001b[0mj\u001b[0m \u001b[0;32min\u001b[0m \u001b[0mrange\u001b[0m\u001b[0;34m(\u001b[0m\u001b[0mlen\u001b[0m\u001b[0;34m(\u001b[0m\u001b[0mmetadata_data_pairs\u001b[0m\u001b[0;34m)\u001b[0m\u001b[0;34m)\u001b[0m\u001b[0;34m:\u001b[0m\u001b[0;34m\u001b[0m\u001b[0;34m\u001b[0m\u001b[0m\n",
      "\u001b[0;32m/usr/local/lib/python3.6/site-packages/ray/utils.py\u001b[0m in \u001b[0;36m_wrapper\u001b[0;34m(*args, **kwargs)\u001b[0m\n\u001b[1;32m    517\u001b[0m                 \u001b[0;32mdef\u001b[0m \u001b[0m_wrapper\u001b[0m\u001b[0;34m(\u001b[0m\u001b[0;34m*\u001b[0m\u001b[0margs\u001b[0m\u001b[0;34m,\u001b[0m \u001b[0;34m**\u001b[0m\u001b[0mkwargs\u001b[0m\u001b[0;34m)\u001b[0m\u001b[0;34m:\u001b[0m\u001b[0;34m\u001b[0m\u001b[0;34m\u001b[0m\u001b[0m\n\u001b[1;32m    518\u001b[0m                     \u001b[0;32mwith\u001b[0m \u001b[0mself\u001b[0m\u001b[0;34m.\u001b[0m\u001b[0mlock\u001b[0m\u001b[0;34m:\u001b[0m\u001b[0;34m\u001b[0m\u001b[0;34m\u001b[0m\u001b[0m\n\u001b[0;32m--> 519\u001b[0;31m                         \u001b[0;32mreturn\u001b[0m \u001b[0morig_attr\u001b[0m\u001b[0;34m(\u001b[0m\u001b[0;34m*\u001b[0m\u001b[0margs\u001b[0m\u001b[0;34m,\u001b[0m \u001b[0;34m**\u001b[0m\u001b[0mkwargs\u001b[0m\u001b[0;34m)\u001b[0m\u001b[0;34m\u001b[0m\u001b[0;34m\u001b[0m\u001b[0m\n\u001b[0m\u001b[1;32m    520\u001b[0m \u001b[0;34m\u001b[0m\u001b[0m\n\u001b[1;32m    521\u001b[0m                 \u001b[0mself\u001b[0m\u001b[0;34m.\u001b[0m\u001b[0m_wrapper_cache\u001b[0m\u001b[0;34m[\u001b[0m\u001b[0mattr\u001b[0m\u001b[0;34m]\u001b[0m \u001b[0;34m=\u001b[0m \u001b[0m_wrapper\u001b[0m\u001b[0;34m\u001b[0m\u001b[0;34m\u001b[0m\u001b[0m\n",
      "\u001b[0;32m/usr/local/lib/python3.6/site-packages/ray/pyarrow_files/pyarrow/_plasma.pyx\u001b[0m in \u001b[0;36mpyarrow._plasma.PlasmaClient.get_buffers\u001b[0;34m()\u001b[0m\n",
      "\u001b[0;32m/usr/local/lib/python3.6/site-packages/ray/pyarrow_files/pyarrow/_plasma.pyx\u001b[0m in \u001b[0;36mpyarrow._plasma.PlasmaClient._get_object_buffers\u001b[0;34m()\u001b[0m\n",
      "\u001b[0;32m/usr/local/lib/python3.6/site-packages/ray/pyarrow_files/pyarrow/_plasma.pyx\u001b[0m in \u001b[0;36mpyarrow._plasma.plasma_check_status\u001b[0;34m()\u001b[0m\n",
      "\u001b[0;32m/usr/local/lib/python3.6/site-packages/ray/pyarrow_files/pyarrow/error.pxi\u001b[0m in \u001b[0;36mpyarrow.lib.check_status\u001b[0;34m()\u001b[0m\n",
      "\u001b[0;31mArrowIOError\u001b[0m: Encountered unexpected EOF"
     ]
    }
   ],
   "source": [
    "%timeit -n 1 -r 10 executeQueryJoin(t)"
   ]
  },
  {
   "cell_type": "markdown",
   "metadata": {},
   "source": [
    "## Row Number 1B"
   ]
  },
  {
   "cell_type": "code",
   "execution_count": null,
   "metadata": {},
   "outputs": [],
   "source": [
    "del t\n",
    "t = createTable(1000 * 1000 * 1000)"
   ]
  },
  {
   "cell_type": "code",
   "execution_count": null,
   "metadata": {},
   "outputs": [],
   "source": [
    "%timeit -n 1 -r 10 executeQueryJoin(t)"
   ]
  }
 ],
 "metadata": {
  "kernelspec": {
   "display_name": "Python 3",
   "language": "python",
   "name": "python3"
  }
 },
 "nbformat": 4,
 "nbformat_minor": 2
}
