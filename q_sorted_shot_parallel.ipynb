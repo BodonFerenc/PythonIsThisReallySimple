{
 "cells": [
  {
   "cell_type": "markdown",
   "metadata": {},
   "source": [
    "## Hardware Details\n",
    "[GCP](https://cloud.google.com/) VM: [n1-highmem-16](https://cloud.google.com/compute/docs/machine-types#n1_machine_types) (16 vCPUs, 104 GB memory)"
   ]
  },
  {
   "cell_type": "code",
   "execution_count": 1,
   "metadata": {
    "scrolled": true
   },
   "outputs": [
    {
     "data": {
      "text/plain": [
       "\"Architecture:          x86_64\"\n",
       "\"CPU op-mode(s):        32-bit, 64-bit\"\n",
       "\"Byte Order:            Little Endian\"\n",
       "\"CPU(s):                16\"\n",
       "\"On-line CPU(s) list:   0-15\"\n",
       "\"Thread(s) per core:    2\"\n",
       "\"Core(s) per socket:    8\"\n",
       "\"Socket(s):             1\"\n",
       "\"NUMA node(s):          1\"\n",
       "\"Vendor ID:             GenuineIntel\"\n",
       "\"CPU family:            6\"\n",
       "\"Model:                 63\"\n",
       "\"Model name:            Intel(R) Xeon(R) CPU @ 2.30GHz\"\n",
       "\"Stepping:              0\"\n",
       "\"CPU MHz:               2300.000\"\n",
       "\"BogoMIPS:              4600.00\"\n",
       "\"Hypervisor vendor:     KVM\"\n",
       "\"Virtualization type:   full\"\n",
       "\"L1d cache:             32K\"\n",
       "\"L1i cache:             32K\"\n",
       "\"L2 cache:              256K\"\n",
       "\"L3 cache:              46080K\"\n",
       "..\n"
      ]
     },
     "execution_count": 1,
     "metadata": {},
     "output_type": "execute_result"
    }
   ],
   "source": [
    "system \"lscpu\""
   ]
  },
  {
   "cell_type": "code",
   "execution_count": 2,
   "metadata": {
    "scrolled": false
   },
   "outputs": [
    {
     "data": {
      "text/plain": [
       "\"MemTotal:       107091244 kB\"\n"
      ]
     },
     "execution_count": 2,
     "metadata": {},
     "output_type": "execute_result"
    }
   ],
   "source": [
    "system \"cat /proc/meminfo | head -n1\""
   ]
  },
  {
   "cell_type": "code",
   "execution_count": 3,
   "metadata": {},
   "outputs": [
    {
     "data": {
      "text/plain": [
       "16i\n"
      ]
     },
     "execution_count": 3,
     "metadata": {},
     "output_type": "execute_result"
    }
   ],
   "source": [
    "// nr of slaves\n",
    "\\s"
   ]
  },
  {
   "cell_type": "markdown",
   "metadata": {},
   "source": [
    "## Basic functions"
   ]
  },
  {
   "cell_type": "code",
   "execution_count": 4,
   "metadata": {},
   "outputs": [],
   "source": [
    "createTable: {[tname; rowCount]\n",
    "    .Q.gc[];\n",
    "    tname set `bucket xasc ([] bucket: rowCount?`2; qty: rowCount?100h; risk: rowCount?10h; weight: rowCount?2.)\n",
    "  }"
   ]
  },
  {
   "cell_type": "code",
   "execution_count": 5,
   "metadata": {},
   "outputs": [],
   "source": [
    "executeParallel: {[tNames]\n",
    "  :select bucket, NR, TOTAL_QTY, AVG_QTY: TOTAL_QTY % NR, \n",
    "    TOTAL_RISK, AVG_RISK: TOTAL_RISK % NR, W_AVG_QTY: W_SUM_QTY % TOTAL_WEIGHT, W_AVG_RISK: W_SUM_RISK % TOTAL_WEIGHT from \n",
    "    sum ?[; (); enlist[`bucket]!enlist `bucket; `NR`TOTAL_QTY`TOTAL_RISK`W_SUM_QTY`W_SUM_RISK`TOTAL_WEIGHT!((count; 1b); (sum; `qty); (sum; `risk); (wsum; `weight; `qty); (wsum; `weight; `risk); (sum; `weight))] peach tNames;\n",
    "  }"
   ]
  },
  {
   "cell_type": "code",
   "execution_count": 6,
   "metadata": {},
   "outputs": [],
   "source": [
    "N: abs system \"s\";\n",
    "if[not 0 < N; '\"Please start the q process with slave processes, e.g. 'q -s 16'\"]\n",
    "tableNamePrefix: \"t\";\n",
    "tNames: `$tableNamePrefix ,' string til N"
   ]
  },
  {
   "cell_type": "markdown",
   "metadata": {},
   "source": [
    "## 10k"
   ]
  },
  {
   "cell_type": "code",
   "execution_count": 7,
   "metadata": {},
   "outputs": [
    {
     "data": {
      "text/plain": [
       "276\n"
      ]
     },
     "execution_count": 7,
     "metadata": {},
     "output_type": "execute_result"
    }
   ],
   "source": [
    "rowNumber: 10 * 1000;\n",
    "createTable[; rowNumber div N] each tNames;\n",
    "\\t:100 executeParallel tNames"
   ]
  },
  {
   "cell_type": "markdown",
   "metadata": {},
   "source": [
    "## 100k"
   ]
  },
  {
   "cell_type": "code",
   "execution_count": 8,
   "metadata": {},
   "outputs": [
    {
     "data": {
      "text/plain": [
       "313\n"
      ]
     },
     "execution_count": 8,
     "metadata": {},
     "output_type": "execute_result"
    }
   ],
   "source": [
    "rowNumber: 100 * 1000;\n",
    "createTable[; rowNumber div N] each tNames;\n",
    "\\t:100 executeParallel tNames"
   ]
  },
  {
   "cell_type": "markdown",
   "metadata": {},
   "source": [
    "## 1M"
   ]
  },
  {
   "cell_type": "code",
   "execution_count": 9,
   "metadata": {},
   "outputs": [
    {
     "data": {
      "text/plain": [
       "990\n"
      ]
     },
     "execution_count": 9,
     "metadata": {},
     "output_type": "execute_result"
    }
   ],
   "source": [
    "rowNumber: 1000 * 1000;\n",
    "createTable[; rowNumber div N] each tNames;\n",
    "\\t:100 executeParallel tNames"
   ]
  },
  {
   "cell_type": "markdown",
   "metadata": {},
   "source": [
    "## 10M"
   ]
  },
  {
   "cell_type": "code",
   "execution_count": 10,
   "metadata": {},
   "outputs": [
    {
     "data": {
      "text/plain": [
       "7838\n"
      ]
     },
     "execution_count": 10,
     "metadata": {},
     "output_type": "execute_result"
    }
   ],
   "source": [
    "rowNumber: 10 * 1000 * 1000;\n",
    "createTable[; rowNumber div N] each tNames;\n",
    "\\t:100 executeParallel tNames"
   ]
  },
  {
   "cell_type": "markdown",
   "metadata": {},
   "source": [
    "## 100M\n",
    "We execute the tests ten times only!"
   ]
  },
  {
   "cell_type": "code",
   "execution_count": 11,
   "metadata": {
    "scrolled": true
   },
   "outputs": [],
   "source": [
    "rowNumber: 100 * 1000 * 1000;\n",
    "createTable[; rowNumber div N] each tNames;"
   ]
  },
  {
   "cell_type": "code",
   "execution_count": 12,
   "metadata": {},
   "outputs": [
    {
     "data": {
      "text/plain": [
       "8435\n"
      ]
     },
     "execution_count": 12,
     "metadata": {},
     "output_type": "execute_result"
    }
   ],
   "source": [
    "\\t:10 executeParallel tNames"
   ]
  },
  {
   "cell_type": "markdown",
   "metadata": {},
   "source": [
    "## 1B\n",
    "We execute the tests ten times only!"
   ]
  },
  {
   "cell_type": "code",
   "execution_count": 13,
   "metadata": {},
   "outputs": [
    {
     "data": {
      "text/plain": [
       "`t0`t1`t2`t3`t4`t5`t6`t7`t8`t9`t10`t11`t12`t13`t14`t15\n"
      ]
     },
     "execution_count": 13,
     "metadata": {},
     "output_type": "execute_result"
    }
   ],
   "source": [
    "rowNumber: 1000 * 1000 * 1000;\n",
    "createTable[; rowNumber div N] each tNames"
   ]
  },
  {
   "cell_type": "code",
   "execution_count": 14,
   "metadata": {},
   "outputs": [
    {
     "data": {
      "text/plain": [
       "67834\n"
      ]
     },
     "execution_count": 14,
     "metadata": {},
     "output_type": "execute_result"
    }
   ],
   "source": [
    "\\t:10 executeParallel tNames"
   ]
  }
 ],
 "metadata": {
  "kernelspec": {
   "display_name": "Q (kdb+)",
   "language": "q",
   "name": "qpk"
  },
  "language_info": {
   "file_extension": ".q",
   "mimetype": "text/x-q",
   "name": "q",
   "version": "3.6.0"
  }
 },
 "nbformat": 4,
 "nbformat_minor": 2
}
