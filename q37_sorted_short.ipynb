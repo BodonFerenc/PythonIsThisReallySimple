{
 "cells": [
  {
   "cell_type": "markdown",
   "metadata": {},
   "source": [
    "## Hardware Details\n",
    "[GCP](https://cloud.google.com/) VM: [n1-highmem-16](https://cloud.google.com/compute/docs/machine-types#n1_machine_types) (16 vCPUs, 104 GB memory)"
   ]
  },
  {
   "cell_type": "code",
   "execution_count": 1,
   "metadata": {
    "scrolled": true
   },
   "outputs": [
    {
     "data": {
      "text/plain": [
       "\"Architecture:          x86_64\"\n",
       "\"CPU op-mode(s):        32-bit, 64-bit\"\n",
       "\"Byte Order:            Little Endian\"\n",
       "\"CPU(s):                16\"\n",
       "\"On-line CPU(s) list:   0-15\"\n",
       "\"Thread(s) per core:    2\"\n",
       "\"Core(s) per socket:    8\"\n",
       "\"Socket(s):             1\"\n",
       "\"NUMA node(s):          1\"\n",
       "\"Vendor ID:             GenuineIntel\"\n",
       "\"CPU family:            6\"\n",
       "\"Model:                 63\"\n",
       "\"Model name:            Intel(R) Xeon(R) CPU @ 2.30GHz\"\n",
       "\"Stepping:              0\"\n",
       "\"CPU MHz:               2300.000\"\n",
       "\"BogoMIPS:              4600.00\"\n",
       "\"Hypervisor vendor:     KVM\"\n",
       "\"Virtualization type:   full\"\n",
       "\"L1d cache:             32K\"\n",
       "\"L1i cache:             32K\"\n",
       "\"L2 cache:              256K\"\n",
       "\"L3 cache:              46080K\"\n",
       "..\n"
      ]
     },
     "execution_count": 1,
     "metadata": {},
     "output_type": "execute_result"
    }
   ],
   "source": [
    "system \"lscpu\""
   ]
  },
  {
   "cell_type": "code",
   "execution_count": 2,
   "metadata": {
    "scrolled": true
   },
   "outputs": [
    {
     "data": {
      "text/plain": [
       "\"MemTotal:       107091244 kB\"\n"
      ]
     },
     "execution_count": 2,
     "metadata": {},
     "output_type": "execute_result"
    }
   ],
   "source": [
    "system \"cat /proc/meminfo | head -n1\""
   ]
  },
  {
   "cell_type": "code",
   "execution_count": 3,
   "metadata": {},
   "outputs": [
    {
     "data": {
      "text/plain": [
       "16i\n"
      ]
     },
     "execution_count": 3,
     "metadata": {},
     "output_type": "execute_result"
    }
   ],
   "source": [
    "// number of slaves\n",
    "\\s"
   ]
  },
  {
   "cell_type": "code",
   "execution_count": 4,
   "metadata": {},
   "outputs": [
    {
     "data": {
      "text/plain": [
       "3.7\n",
       "2019.12.12\n"
      ]
     },
     "execution_count": 4,
     "metadata": {},
     "output_type": "execute_result"
    }
   ],
   "source": [
    "(.z.K; .z.k)"
   ]
  },
  {
   "cell_type": "markdown",
   "metadata": {},
   "source": [
    "## Basic functions"
   ]
  },
  {
   "cell_type": "code",
   "execution_count": 5,
   "metadata": {},
   "outputs": [],
   "source": [
    "createTable: {[rowCount]\n",
    "    .Q.gc[];\n",
    "    :`bucket xasc ([] bucket: rowCount?`2; qty: rowCount?100h; risk: rowCount?10h; weight: rowCount?2.)\n",
    "  }\n"
   ]
  },
  {
   "cell_type": "code",
   "execution_count": 6,
   "metadata": {},
   "outputs": [],
   "source": [
    "executeQuery: {[t]\n",
    "    select NR: count 1b, TOTAL_QTY: sum qty, AVG_QTY: avg qty, \n",
    "        TOTAL_RISK: sum risk, AVG_QTY: avg risk, \n",
    "        W_AVG_QTY: weight wavg qty, W_AVG_RISK: weight wavg risk by bucket from t\n",
    "    }"
   ]
  },
  {
   "cell_type": "code",
   "execution_count": 7,
   "metadata": {},
   "outputs": [],
   "source": [
    "executeQuery2: {[t]\n",
    "   update AVG_QTY: TOTAL_QTY % NR, AVG_RISK: TOTAL_RISK % NR from\n",
    "     select NR: count bucket, TOTAL_QTY: sum qty, TOTAL_RISK: sum risk,\n",
    "        W_AVG_QTY: weight wavg qty, W_AVG_RISK: weight wavg risk by bucket from t\n",
    "    }"
   ]
  },
  {
   "cell_type": "markdown",
   "metadata": {},
   "source": [
    "## Row Number 10k"
   ]
  },
  {
   "cell_type": "code",
   "execution_count": 8,
   "metadata": {},
   "outputs": [
    {
     "data": {
      "text/plain": [
       "69\n"
      ]
     },
     "execution_count": 8,
     "metadata": {},
     "output_type": "execute_result"
    }
   ],
   "source": [
    "t: createTable[10 * 1000]\n",
    "\\t:100 executeQuery[t]"
   ]
  },
  {
   "cell_type": "markdown",
   "metadata": {},
   "source": [
    "## Row Number 100k"
   ]
  },
  {
   "cell_type": "code",
   "execution_count": 9,
   "metadata": {},
   "outputs": [
    {
     "data": {
      "text/plain": [
       "240\n"
      ]
     },
     "execution_count": 9,
     "metadata": {},
     "output_type": "execute_result"
    }
   ],
   "source": [
    "t: createTable[100 * 1000]\n",
    "\\t:100 executeQuery[t]"
   ]
  },
  {
   "cell_type": "markdown",
   "metadata": {},
   "source": [
    "## Row Number 1M"
   ]
  },
  {
   "cell_type": "code",
   "execution_count": 10,
   "metadata": {},
   "outputs": [
    {
     "data": {
      "text/plain": [
       "2150\n"
      ]
     },
     "execution_count": 10,
     "metadata": {},
     "output_type": "execute_result"
    }
   ],
   "source": [
    "t: createTable[1000 * 1000]\n",
    "\\t:100 executeQuery[t]"
   ]
  },
  {
   "cell_type": "markdown",
   "metadata": {},
   "source": [
    "## Row Number 10M"
   ]
  },
  {
   "cell_type": "code",
   "execution_count": 11,
   "metadata": {},
   "outputs": [
    {
     "data": {
      "text/plain": [
       "22096\n"
      ]
     },
     "execution_count": 11,
     "metadata": {},
     "output_type": "execute_result"
    }
   ],
   "source": [
    "t: createTable[10 * 1000 * 1000]\n",
    "\\t:100 executeQuery[t]"
   ]
  },
  {
   "cell_type": "markdown",
   "metadata": {},
   "source": [
    "## Row Number 100M\n",
    "We execute the tests ten times only!"
   ]
  },
  {
   "cell_type": "code",
   "execution_count": 12,
   "metadata": {},
   "outputs": [],
   "source": [
    "t: createTable[100 * 1000 * 1000]"
   ]
  },
  {
   "cell_type": "code",
   "execution_count": 13,
   "metadata": {
    "scrolled": true
   },
   "outputs": [
    {
     "data": {
      "text/plain": [
       "14377\n"
      ]
     },
     "execution_count": 13,
     "metadata": {},
     "output_type": "execute_result"
    }
   ],
   "source": [
    "\\t:10 executeQuery[t]"
   ]
  },
  {
   "cell_type": "markdown",
   "metadata": {},
   "source": [
    "## Row Number 1B\n",
    "We execute the tests ten times only!"
   ]
  },
  {
   "cell_type": "code",
   "execution_count": 14,
   "metadata": {},
   "outputs": [],
   "source": [
    "t: createTable[1000 * 1000 * 1000]"
   ]
  },
  {
   "cell_type": "code",
   "execution_count": 15,
   "metadata": {
    "scrolled": true
   },
   "outputs": [
    {
     "data": {
      "text/plain": [
       "82650\n"
      ]
     },
     "execution_count": 15,
     "metadata": {},
     "output_type": "execute_result"
    }
   ],
   "source": [
    "\\t:10 executeQuery[t]"
   ]
  },
  {
   "cell_type": "code",
   "execution_count": 16,
   "metadata": {},
   "outputs": [
    {
     "data": {
      "text/plain": [
       "73246\n"
      ]
     },
     "execution_count": 16,
     "metadata": {},
     "output_type": "execute_result"
    }
   ],
   "source": [
    "\\t:10 executeQuery2[t]"
   ]
  }
 ],
 "metadata": {
  "kernelspec": {
   "display_name": "Q (kdb+)",
   "language": "q",
   "name": "qpk"
  },
  "language_info": {
   "file_extension": ".q",
   "mimetype": "text/x-q",
   "name": "q",
   "version": "3.7.0"
  }
 },
 "nbformat": 4,
 "nbformat_minor": 2
}
